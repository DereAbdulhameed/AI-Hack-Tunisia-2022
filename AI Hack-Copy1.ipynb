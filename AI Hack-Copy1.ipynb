{
 "cells": [
  {
   "cell_type": "code",
   "execution_count": 171,
   "id": "062c6868",
   "metadata": {},
   "outputs": [],
   "source": [
    "## Importing required libraries\n",
    "import pandas as pd #for data preprocessing\n",
    "\n",
    "#Data Visualization Libraries\n",
    "import seaborn as sns\n",
    "import matplotlib.pyplot as plt\n",
    "\n",
    "#Linear Algebra\n",
    "import numpy as np\n",
    " \n",
    "#Import Datetime module\n",
    "from datetime import datetime\n",
    "\n",
    "from sklearn.model_selection import KFold,StratifiedKFold,GridSearchCV,RandomizedSearchCV, train_test_split #For splitting\n",
    "\n",
    "#Evaluation Metrics\n",
    "from sklearn.metrics import accuracy_score, f1_score, roc_auc_score, mean_squared_error\n",
    "\n",
    "#To ignore unnecessary warnings\n",
    "import warnings\n",
    "\n",
    "from sklearn.preprocessing import LabelEncoder,OneHotEncoder # for encoding categorical variables\n",
    "from sklearn.linear_model import LogisticRegression"
   ]
  },
  {
   "cell_type": "code",
   "execution_count": 245,
   "id": "18b69e01",
   "metadata": {},
   "outputs": [],
   "source": [
    "train = pd.read_csv('Train.csv')\n",
    "test = pd.read_csv('Test.csv')\n",
    "ss = pd.read_csv('SampleSubmission.csv')\n",
    "date = pd.read_csv('dates.csv')\n",
    "store = pd.read_csv('stores.csv')"
   ]
  },
  {
   "cell_type": "code",
   "execution_count": 246,
   "id": "6969b444",
   "metadata": {},
   "outputs": [
    {
     "name": "stdout",
     "output_type": "stream",
     "text": [
      "The Size of the train set is: (2248884, 6), and the size of the test set is (99792, 4)\n"
     ]
    }
   ],
   "source": [
    "print(f'The Size of the train set is: {train.shape}, and the size of the test set is {test.shape}')"
   ]
  },
  {
   "cell_type": "code",
   "execution_count": 247,
   "id": "ac28e0e7",
   "metadata": {
    "scrolled": false
   },
   "outputs": [
    {
     "name": "stdout",
     "output_type": "stream",
     "text": [
      "(2248884, 6)\n",
      "(99792, 4)\n",
      "(14256, 2)\n",
      "(1320, 15)\n"
     ]
    }
   ],
   "source": [
    "print(train.shape)\n",
    "print(test.shape)\n",
    "print(ss.shape)\n",
    "print(date.shape)"
   ]
  },
  {
   "cell_type": "code",
   "execution_count": 248,
   "id": "d293f182",
   "metadata": {
    "scrolled": true
   },
   "outputs": [
    {
     "data": {
      "text/plain": [
       "Index(['date', 'store_id', 'category_id', 'target', 'onpromotion',\n",
       "       'nbr_of_transactions'],\n",
       "      dtype='object')"
      ]
     },
     "execution_count": 248,
     "metadata": {},
     "output_type": "execute_result"
    }
   ],
   "source": [
    "train.columns"
   ]
  },
  {
   "cell_type": "code",
   "execution_count": 249,
   "id": "67496b83",
   "metadata": {},
   "outputs": [
    {
     "data": {
      "text/plain": [
       "Index(['date', 'store_id', 'category_id', 'onpromotion'], dtype='object')"
      ]
     },
     "execution_count": 249,
     "metadata": {},
     "output_type": "execute_result"
    }
   ],
   "source": [
    "test.columns"
   ]
  },
  {
   "cell_type": "code",
   "execution_count": 250,
   "id": "7efd130d",
   "metadata": {},
   "outputs": [
    {
     "data": {
      "text/html": [
       "<div>\n",
       "<style scoped>\n",
       "    .dataframe tbody tr th:only-of-type {\n",
       "        vertical-align: middle;\n",
       "    }\n",
       "\n",
       "    .dataframe tbody tr th {\n",
       "        vertical-align: top;\n",
       "    }\n",
       "\n",
       "    .dataframe thead th {\n",
       "        text-align: right;\n",
       "    }\n",
       "</style>\n",
       "<table border=\"1\" class=\"dataframe\">\n",
       "  <thead>\n",
       "    <tr style=\"text-align: right;\">\n",
       "      <th></th>\n",
       "      <th>date</th>\n",
       "      <th>store_id</th>\n",
       "      <th>category_id</th>\n",
       "      <th>target</th>\n",
       "      <th>onpromotion</th>\n",
       "      <th>nbr_of_transactions</th>\n",
       "    </tr>\n",
       "  </thead>\n",
       "  <tbody>\n",
       "    <tr>\n",
       "      <th>0</th>\n",
       "      <td>365</td>\n",
       "      <td>store_1</td>\n",
       "      <td>category_24</td>\n",
       "      <td>0.0</td>\n",
       "      <td>0</td>\n",
       "      <td>0.0</td>\n",
       "    </tr>\n",
       "    <tr>\n",
       "      <th>1</th>\n",
       "      <td>365</td>\n",
       "      <td>store_1</td>\n",
       "      <td>category_21</td>\n",
       "      <td>0.0</td>\n",
       "      <td>0</td>\n",
       "      <td>0.0</td>\n",
       "    </tr>\n",
       "    <tr>\n",
       "      <th>2</th>\n",
       "      <td>365</td>\n",
       "      <td>store_1</td>\n",
       "      <td>category_32</td>\n",
       "      <td>0.0</td>\n",
       "      <td>0</td>\n",
       "      <td>0.0</td>\n",
       "    </tr>\n",
       "    <tr>\n",
       "      <th>3</th>\n",
       "      <td>365</td>\n",
       "      <td>store_1</td>\n",
       "      <td>category_18</td>\n",
       "      <td>0.0</td>\n",
       "      <td>0</td>\n",
       "      <td>0.0</td>\n",
       "    </tr>\n",
       "    <tr>\n",
       "      <th>4</th>\n",
       "      <td>365</td>\n",
       "      <td>store_1</td>\n",
       "      <td>category_26</td>\n",
       "      <td>0.0</td>\n",
       "      <td>0</td>\n",
       "      <td>0.0</td>\n",
       "    </tr>\n",
       "  </tbody>\n",
       "</table>\n",
       "</div>"
      ],
      "text/plain": [
       "   date store_id  category_id  target  onpromotion  nbr_of_transactions\n",
       "0   365  store_1  category_24     0.0            0                  0.0\n",
       "1   365  store_1  category_21     0.0            0                  0.0\n",
       "2   365  store_1  category_32     0.0            0                  0.0\n",
       "3   365  store_1  category_18     0.0            0                  0.0\n",
       "4   365  store_1  category_26     0.0            0                  0.0"
      ]
     },
     "execution_count": 250,
     "metadata": {},
     "output_type": "execute_result"
    }
   ],
   "source": [
    "train.head()"
   ]
  },
  {
   "cell_type": "code",
   "execution_count": 251,
   "id": "08b5ca13",
   "metadata": {},
   "outputs": [
    {
     "data": {
      "text/html": [
       "<div>\n",
       "<style scoped>\n",
       "    .dataframe tbody tr th:only-of-type {\n",
       "        vertical-align: middle;\n",
       "    }\n",
       "\n",
       "    .dataframe tbody tr th {\n",
       "        vertical-align: top;\n",
       "    }\n",
       "\n",
       "    .dataframe thead th {\n",
       "        text-align: right;\n",
       "    }\n",
       "</style>\n",
       "<table border=\"1\" class=\"dataframe\">\n",
       "  <thead>\n",
       "    <tr style=\"text-align: right;\">\n",
       "      <th></th>\n",
       "      <th>date</th>\n",
       "      <th>store_id</th>\n",
       "      <th>category_id</th>\n",
       "      <th>onpromotion</th>\n",
       "    </tr>\n",
       "  </thead>\n",
       "  <tbody>\n",
       "    <tr>\n",
       "      <th>0</th>\n",
       "      <td>1627</td>\n",
       "      <td>store_1</td>\n",
       "      <td>category_24</td>\n",
       "      <td>0</td>\n",
       "    </tr>\n",
       "    <tr>\n",
       "      <th>1</th>\n",
       "      <td>1627</td>\n",
       "      <td>store_1</td>\n",
       "      <td>category_21</td>\n",
       "      <td>0</td>\n",
       "    </tr>\n",
       "  </tbody>\n",
       "</table>\n",
       "</div>"
      ],
      "text/plain": [
       "   date store_id  category_id  onpromotion\n",
       "0  1627  store_1  category_24            0\n",
       "1  1627  store_1  category_21            0"
      ]
     },
     "execution_count": 251,
     "metadata": {},
     "output_type": "execute_result"
    }
   ],
   "source": [
    "test.head(2)"
   ]
  },
  {
   "cell_type": "code",
   "execution_count": 252,
   "id": "fbe41e2f",
   "metadata": {},
   "outputs": [
    {
     "data": {
      "text/html": [
       "<div>\n",
       "<style scoped>\n",
       "    .dataframe tbody tr th:only-of-type {\n",
       "        vertical-align: middle;\n",
       "    }\n",
       "\n",
       "    .dataframe tbody tr th {\n",
       "        vertical-align: top;\n",
       "    }\n",
       "\n",
       "    .dataframe thead th {\n",
       "        text-align: right;\n",
       "    }\n",
       "</style>\n",
       "<table border=\"1\" class=\"dataframe\">\n",
       "  <thead>\n",
       "    <tr style=\"text-align: right;\">\n",
       "      <th></th>\n",
       "      <th>ID</th>\n",
       "      <th>target</th>\n",
       "    </tr>\n",
       "  </thead>\n",
       "  <tbody>\n",
       "    <tr>\n",
       "      <th>0</th>\n",
       "      <td>year_week_425_store_1_category_0</td>\n",
       "      <td>0</td>\n",
       "    </tr>\n",
       "    <tr>\n",
       "      <th>1</th>\n",
       "      <td>year_week_426_store_1_category_0</td>\n",
       "      <td>0</td>\n",
       "    </tr>\n",
       "    <tr>\n",
       "      <th>2</th>\n",
       "      <td>year_week_427_store_1_category_0</td>\n",
       "      <td>1</td>\n",
       "    </tr>\n",
       "    <tr>\n",
       "      <th>3</th>\n",
       "      <td>year_week_428_store_1_category_0</td>\n",
       "      <td>3</td>\n",
       "    </tr>\n",
       "    <tr>\n",
       "      <th>4</th>\n",
       "      <td>year_week_429_store_1_category_0</td>\n",
       "      <td>2</td>\n",
       "    </tr>\n",
       "  </tbody>\n",
       "</table>\n",
       "</div>"
      ],
      "text/plain": [
       "                                 ID  target\n",
       "0  year_week_425_store_1_category_0       0\n",
       "1  year_week_426_store_1_category_0       0\n",
       "2  year_week_427_store_1_category_0       1\n",
       "3  year_week_428_store_1_category_0       3\n",
       "4  year_week_429_store_1_category_0       2"
      ]
     },
     "execution_count": 252,
     "metadata": {},
     "output_type": "execute_result"
    }
   ],
   "source": [
    "ss.head()"
   ]
  },
  {
   "cell_type": "code",
   "execution_count": 253,
   "id": "8ab2231c",
   "metadata": {},
   "outputs": [],
   "source": [
    "train = pd.merge(train, date, on = 'date', how = 'left')\n",
    "test = pd.merge(test, date, on = 'date', how = 'left')"
   ]
  },
  {
   "cell_type": "markdown",
   "id": "71f84077",
   "metadata": {},
   "source": [
    "### Data Processing"
   ]
  },
  {
   "cell_type": "code",
   "execution_count": 254,
   "id": "e2bd76d7",
   "metadata": {
    "scrolled": true
   },
   "outputs": [
    {
     "name": "stdout",
     "output_type": "stream",
     "text": [
      "<class 'pandas.core.frame.DataFrame'>\n",
      "Int64Index: 2248884 entries, 0 to 2248883\n",
      "Data columns (total 20 columns):\n",
      " #   Column               Dtype  \n",
      "---  ------               -----  \n",
      " 0   date                 int64  \n",
      " 1   store_id             object \n",
      " 2   category_id          object \n",
      " 3   target               float64\n",
      " 4   onpromotion          int64  \n",
      " 5   nbr_of_transactions  float64\n",
      " 6   year                 int64  \n",
      " 7   month                int64  \n",
      " 8   dayofmonth           int64  \n",
      " 9   dayofweek            int64  \n",
      " 10  dayofyear            int64  \n",
      " 11  weekofyear           int64  \n",
      " 12  quarter              int64  \n",
      " 13  is_month_start       bool   \n",
      " 14  is_month_end         bool   \n",
      " 15  is_quarter_start     bool   \n",
      " 16  is_quarter_end       bool   \n",
      " 17  is_year_start        bool   \n",
      " 18  is_year_end          bool   \n",
      " 19  year_weekofyear      int64  \n",
      "dtypes: bool(6), float64(2), int64(10), object(2)\n",
      "memory usage: 270.2+ MB\n"
     ]
    }
   ],
   "source": [
    "train.info()"
   ]
  },
  {
   "cell_type": "code",
   "execution_count": 255,
   "id": "f5cff5f0",
   "metadata": {},
   "outputs": [
    {
     "data": {
      "text/html": [
       "<div>\n",
       "<style scoped>\n",
       "    .dataframe tbody tr th:only-of-type {\n",
       "        vertical-align: middle;\n",
       "    }\n",
       "\n",
       "    .dataframe tbody tr th {\n",
       "        vertical-align: top;\n",
       "    }\n",
       "\n",
       "    .dataframe thead th {\n",
       "        text-align: right;\n",
       "    }\n",
       "</style>\n",
       "<table border=\"1\" class=\"dataframe\">\n",
       "  <thead>\n",
       "    <tr style=\"text-align: right;\">\n",
       "      <th></th>\n",
       "      <th>date</th>\n",
       "      <th>store_id</th>\n",
       "      <th>category_id</th>\n",
       "      <th>target</th>\n",
       "      <th>onpromotion</th>\n",
       "      <th>nbr_of_transactions</th>\n",
       "      <th>year</th>\n",
       "      <th>month</th>\n",
       "      <th>dayofmonth</th>\n",
       "      <th>dayofweek</th>\n",
       "      <th>dayofyear</th>\n",
       "      <th>weekofyear</th>\n",
       "      <th>quarter</th>\n",
       "      <th>is_month_start</th>\n",
       "      <th>is_month_end</th>\n",
       "      <th>is_quarter_start</th>\n",
       "      <th>is_quarter_end</th>\n",
       "      <th>is_year_start</th>\n",
       "      <th>is_year_end</th>\n",
       "      <th>year_weekofyear</th>\n",
       "    </tr>\n",
       "  </thead>\n",
       "  <tbody>\n",
       "    <tr>\n",
       "      <th>0</th>\n",
       "      <td>365</td>\n",
       "      <td>store_1</td>\n",
       "      <td>category_24</td>\n",
       "      <td>0.0</td>\n",
       "      <td>0</td>\n",
       "      <td>0.0</td>\n",
       "      <td>1</td>\n",
       "      <td>1</td>\n",
       "      <td>1</td>\n",
       "      <td>2</td>\n",
       "      <td>1</td>\n",
       "      <td>1</td>\n",
       "      <td>1</td>\n",
       "      <td>True</td>\n",
       "      <td>False</td>\n",
       "      <td>True</td>\n",
       "      <td>False</td>\n",
       "      <td>True</td>\n",
       "      <td>False</td>\n",
       "      <td>101</td>\n",
       "    </tr>\n",
       "    <tr>\n",
       "      <th>1</th>\n",
       "      <td>365</td>\n",
       "      <td>store_1</td>\n",
       "      <td>category_21</td>\n",
       "      <td>0.0</td>\n",
       "      <td>0</td>\n",
       "      <td>0.0</td>\n",
       "      <td>1</td>\n",
       "      <td>1</td>\n",
       "      <td>1</td>\n",
       "      <td>2</td>\n",
       "      <td>1</td>\n",
       "      <td>1</td>\n",
       "      <td>1</td>\n",
       "      <td>True</td>\n",
       "      <td>False</td>\n",
       "      <td>True</td>\n",
       "      <td>False</td>\n",
       "      <td>True</td>\n",
       "      <td>False</td>\n",
       "      <td>101</td>\n",
       "    </tr>\n",
       "  </tbody>\n",
       "</table>\n",
       "</div>"
      ],
      "text/plain": [
       "   date store_id  category_id  target  onpromotion  nbr_of_transactions  year  \\\n",
       "0   365  store_1  category_24     0.0            0                  0.0     1   \n",
       "1   365  store_1  category_21     0.0            0                  0.0     1   \n",
       "\n",
       "   month  dayofmonth  dayofweek  dayofyear  weekofyear  quarter  \\\n",
       "0      1           1          2          1           1        1   \n",
       "1      1           1          2          1           1        1   \n",
       "\n",
       "   is_month_start  is_month_end  is_quarter_start  is_quarter_end  \\\n",
       "0            True         False              True           False   \n",
       "1            True         False              True           False   \n",
       "\n",
       "   is_year_start  is_year_end  year_weekofyear  \n",
       "0           True        False              101  \n",
       "1           True        False              101  "
      ]
     },
     "execution_count": 255,
     "metadata": {},
     "output_type": "execute_result"
    }
   ],
   "source": [
    "train.head(2)"
   ]
  },
  {
   "cell_type": "code",
   "execution_count": 256,
   "id": "779646fe",
   "metadata": {
    "scrolled": false
   },
   "outputs": [
    {
     "data": {
      "text/html": [
       "<div>\n",
       "<style scoped>\n",
       "    .dataframe tbody tr th:only-of-type {\n",
       "        vertical-align: middle;\n",
       "    }\n",
       "\n",
       "    .dataframe tbody tr th {\n",
       "        vertical-align: top;\n",
       "    }\n",
       "\n",
       "    .dataframe thead th {\n",
       "        text-align: right;\n",
       "    }\n",
       "</style>\n",
       "<table border=\"1\" class=\"dataframe\">\n",
       "  <thead>\n",
       "    <tr style=\"text-align: right;\">\n",
       "      <th></th>\n",
       "      <th>date</th>\n",
       "      <th>store_id</th>\n",
       "      <th>category_id</th>\n",
       "      <th>onpromotion</th>\n",
       "      <th>year</th>\n",
       "      <th>month</th>\n",
       "      <th>dayofmonth</th>\n",
       "      <th>dayofweek</th>\n",
       "      <th>dayofyear</th>\n",
       "      <th>weekofyear</th>\n",
       "      <th>quarter</th>\n",
       "      <th>is_month_start</th>\n",
       "      <th>is_month_end</th>\n",
       "      <th>is_quarter_start</th>\n",
       "      <th>is_quarter_end</th>\n",
       "      <th>is_year_start</th>\n",
       "      <th>is_year_end</th>\n",
       "      <th>year_weekofyear</th>\n",
       "    </tr>\n",
       "  </thead>\n",
       "  <tbody>\n",
       "    <tr>\n",
       "      <th>0</th>\n",
       "      <td>1627</td>\n",
       "      <td>store_1</td>\n",
       "      <td>category_24</td>\n",
       "      <td>0</td>\n",
       "      <td>4</td>\n",
       "      <td>6</td>\n",
       "      <td>19</td>\n",
       "      <td>0</td>\n",
       "      <td>170</td>\n",
       "      <td>25</td>\n",
       "      <td>2</td>\n",
       "      <td>False</td>\n",
       "      <td>False</td>\n",
       "      <td>False</td>\n",
       "      <td>False</td>\n",
       "      <td>False</td>\n",
       "      <td>False</td>\n",
       "      <td>425</td>\n",
       "    </tr>\n",
       "    <tr>\n",
       "      <th>1</th>\n",
       "      <td>1627</td>\n",
       "      <td>store_1</td>\n",
       "      <td>category_21</td>\n",
       "      <td>0</td>\n",
       "      <td>4</td>\n",
       "      <td>6</td>\n",
       "      <td>19</td>\n",
       "      <td>0</td>\n",
       "      <td>170</td>\n",
       "      <td>25</td>\n",
       "      <td>2</td>\n",
       "      <td>False</td>\n",
       "      <td>False</td>\n",
       "      <td>False</td>\n",
       "      <td>False</td>\n",
       "      <td>False</td>\n",
       "      <td>False</td>\n",
       "      <td>425</td>\n",
       "    </tr>\n",
       "  </tbody>\n",
       "</table>\n",
       "</div>"
      ],
      "text/plain": [
       "   date store_id  category_id  onpromotion  year  month  dayofmonth  \\\n",
       "0  1627  store_1  category_24            0     4      6          19   \n",
       "1  1627  store_1  category_21            0     4      6          19   \n",
       "\n",
       "   dayofweek  dayofyear  weekofyear  quarter  is_month_start  is_month_end  \\\n",
       "0          0        170          25        2           False         False   \n",
       "1          0        170          25        2           False         False   \n",
       "\n",
       "   is_quarter_start  is_quarter_end  is_year_start  is_year_end  \\\n",
       "0             False           False          False        False   \n",
       "1             False           False          False        False   \n",
       "\n",
       "   year_weekofyear  \n",
       "0              425  \n",
       "1              425  "
      ]
     },
     "execution_count": 256,
     "metadata": {},
     "output_type": "execute_result"
    }
   ],
   "source": [
    "test.head(2)"
   ]
  },
  {
   "cell_type": "code",
   "execution_count": 257,
   "id": "20ef9726",
   "metadata": {},
   "outputs": [
    {
     "name": "stdout",
     "output_type": "stream",
     "text": [
      "<class 'pandas.core.frame.DataFrame'>\n",
      "Int64Index: 99792 entries, 0 to 99791\n",
      "Data columns (total 18 columns):\n",
      " #   Column            Non-Null Count  Dtype \n",
      "---  ------            --------------  ----- \n",
      " 0   date              99792 non-null  int64 \n",
      " 1   store_id          99792 non-null  object\n",
      " 2   category_id       99792 non-null  object\n",
      " 3   onpromotion       99792 non-null  int64 \n",
      " 4   year              99792 non-null  int64 \n",
      " 5   month             99792 non-null  int64 \n",
      " 6   dayofmonth        99792 non-null  int64 \n",
      " 7   dayofweek         99792 non-null  int64 \n",
      " 8   dayofyear         99792 non-null  int64 \n",
      " 9   weekofyear        99792 non-null  int64 \n",
      " 10  quarter           99792 non-null  int64 \n",
      " 11  is_month_start    99792 non-null  bool  \n",
      " 12  is_month_end      99792 non-null  bool  \n",
      " 13  is_quarter_start  99792 non-null  bool  \n",
      " 14  is_quarter_end    99792 non-null  bool  \n",
      " 15  is_year_start     99792 non-null  bool  \n",
      " 16  is_year_end       99792 non-null  bool  \n",
      " 17  year_weekofyear   99792 non-null  int64 \n",
      "dtypes: bool(6), int64(10), object(2)\n",
      "memory usage: 10.5+ MB\n"
     ]
    }
   ],
   "source": [
    "test.info()"
   ]
  },
  {
   "cell_type": "markdown",
   "id": "31b71f67",
   "metadata": {},
   "source": [
    "### Encoding categorical dataset"
   ]
  },
  {
   "cell_type": "code",
   "execution_count": 258,
   "id": "887e0b63",
   "metadata": {},
   "outputs": [],
   "source": [
    "categ_cols = train.select_dtypes(include=['object', 'category', 'boolean']).columns\n",
    "cate_cols = test.select_dtypes(include=['object', 'category', 'boolean']).columns"
   ]
  },
  {
   "cell_type": "code",
   "execution_count": 259,
   "id": "773aea3c",
   "metadata": {},
   "outputs": [
    {
     "data": {
      "text/plain": [
       "Index(['store_id', 'category_id', 'is_month_start', 'is_month_end',\n",
       "       'is_quarter_start', 'is_quarter_end', 'is_year_start', 'is_year_end'],\n",
       "      dtype='object')"
      ]
     },
     "execution_count": 259,
     "metadata": {},
     "output_type": "execute_result"
    }
   ],
   "source": [
    "categ_cols\n",
    "cate_cols"
   ]
  },
  {
   "cell_type": "code",
   "execution_count": 260,
   "id": "1ca2d225",
   "metadata": {},
   "outputs": [],
   "source": [
    "le = LabelEncoder()\n",
    "for i in categ_cols:\n",
    "    train[i] = train[i].astype('category').cat.codes\n",
    "    test[i] = test[i].astype('category').cat.codes"
   ]
  },
  {
   "cell_type": "code",
   "execution_count": 261,
   "id": "461294eb",
   "metadata": {},
   "outputs": [],
   "source": [
    "for i in cate_cols:\n",
    "    test[i] = test[i].astype('category').cat.codes    "
   ]
  },
  {
   "cell_type": "code",
   "execution_count": 262,
   "id": "6a05373e",
   "metadata": {},
   "outputs": [
    {
     "name": "stdout",
     "output_type": "stream",
     "text": [
      "<class 'pandas.core.frame.DataFrame'>\n",
      "Int64Index: 99792 entries, 0 to 99791\n",
      "Data columns (total 18 columns):\n",
      " #   Column            Non-Null Count  Dtype\n",
      "---  ------            --------------  -----\n",
      " 0   date              99792 non-null  int64\n",
      " 1   store_id          99792 non-null  int8 \n",
      " 2   category_id       99792 non-null  int8 \n",
      " 3   onpromotion       99792 non-null  int64\n",
      " 4   year              99792 non-null  int64\n",
      " 5   month             99792 non-null  int64\n",
      " 6   dayofmonth        99792 non-null  int64\n",
      " 7   dayofweek         99792 non-null  int64\n",
      " 8   dayofyear         99792 non-null  int64\n",
      " 9   weekofyear        99792 non-null  int64\n",
      " 10  quarter           99792 non-null  int64\n",
      " 11  is_month_start    99792 non-null  int8 \n",
      " 12  is_month_end      99792 non-null  int8 \n",
      " 13  is_quarter_start  99792 non-null  int8 \n",
      " 14  is_quarter_end    99792 non-null  int8 \n",
      " 15  is_year_start     99792 non-null  int8 \n",
      " 16  is_year_end       99792 non-null  int8 \n",
      " 17  year_weekofyear   99792 non-null  int64\n",
      "dtypes: int64(10), int8(8)\n",
      "memory usage: 9.1 MB\n"
     ]
    }
   ],
   "source": [
    "test.info()"
   ]
  },
  {
   "cell_type": "code",
   "execution_count": 238,
   "id": "33ace8be",
   "metadata": {},
   "outputs": [],
   "source": [
    "train['store_id'] = train['store_id'].astype('category')\n",
    "train['store_id'] = train['store_id'].cat.codes"
   ]
  },
  {
   "cell_type": "code",
   "execution_count": 188,
   "id": "1d8087d4",
   "metadata": {},
   "outputs": [],
   "source": [
    "train['category_id'] = train['category_id'].astype('category')\n",
    "train['category_id'] = train['category_id'].cat.codes"
   ]
  },
  {
   "cell_type": "code",
   "execution_count": 189,
   "id": "e75073b2",
   "metadata": {},
   "outputs": [],
   "source": [
    "test['store_id'] = test['store_id'].astype('category')\n",
    "test['store_id'] = test['store_id'].cat.codes"
   ]
  },
  {
   "cell_type": "code",
   "execution_count": 190,
   "id": "76098ebc",
   "metadata": {},
   "outputs": [],
   "source": [
    "test['category_id'] = test['category_id'].astype('category')\n",
    "test['category_id'] = test['category_id'].cat.codes"
   ]
  },
  {
   "cell_type": "markdown",
   "id": "d3f95a8e",
   "metadata": {},
   "source": [
    "### Checking for null values"
   ]
  },
  {
   "cell_type": "code",
   "execution_count": 263,
   "id": "ccd22364",
   "metadata": {},
   "outputs": [
    {
     "data": {
      "text/html": [
       "<div>\n",
       "<style scoped>\n",
       "    .dataframe tbody tr th:only-of-type {\n",
       "        vertical-align: middle;\n",
       "    }\n",
       "\n",
       "    .dataframe tbody tr th {\n",
       "        vertical-align: top;\n",
       "    }\n",
       "\n",
       "    .dataframe thead th {\n",
       "        text-align: right;\n",
       "    }\n",
       "</style>\n",
       "<table border=\"1\" class=\"dataframe\">\n",
       "  <thead>\n",
       "    <tr style=\"text-align: right;\">\n",
       "      <th></th>\n",
       "      <th>date</th>\n",
       "      <th>year</th>\n",
       "      <th>month</th>\n",
       "      <th>dayofmonth</th>\n",
       "      <th>dayofweek</th>\n",
       "      <th>dayofyear</th>\n",
       "      <th>weekofyear</th>\n",
       "      <th>quarter</th>\n",
       "      <th>is_month_start</th>\n",
       "      <th>is_month_end</th>\n",
       "      <th>is_quarter_start</th>\n",
       "      <th>is_quarter_end</th>\n",
       "      <th>is_year_start</th>\n",
       "      <th>is_year_end</th>\n",
       "      <th>year_weekofyear</th>\n",
       "    </tr>\n",
       "  </thead>\n",
       "  <tbody>\n",
       "    <tr>\n",
       "      <th>0</th>\n",
       "      <td>365</td>\n",
       "      <td>1</td>\n",
       "      <td>1</td>\n",
       "      <td>1</td>\n",
       "      <td>2</td>\n",
       "      <td>1</td>\n",
       "      <td>1</td>\n",
       "      <td>1</td>\n",
       "      <td>True</td>\n",
       "      <td>False</td>\n",
       "      <td>True</td>\n",
       "      <td>False</td>\n",
       "      <td>True</td>\n",
       "      <td>False</td>\n",
       "      <td>101</td>\n",
       "    </tr>\n",
       "    <tr>\n",
       "      <th>1</th>\n",
       "      <td>366</td>\n",
       "      <td>1</td>\n",
       "      <td>1</td>\n",
       "      <td>2</td>\n",
       "      <td>3</td>\n",
       "      <td>2</td>\n",
       "      <td>1</td>\n",
       "      <td>1</td>\n",
       "      <td>False</td>\n",
       "      <td>False</td>\n",
       "      <td>False</td>\n",
       "      <td>False</td>\n",
       "      <td>False</td>\n",
       "      <td>False</td>\n",
       "      <td>101</td>\n",
       "    </tr>\n",
       "    <tr>\n",
       "      <th>2</th>\n",
       "      <td>367</td>\n",
       "      <td>1</td>\n",
       "      <td>1</td>\n",
       "      <td>3</td>\n",
       "      <td>4</td>\n",
       "      <td>3</td>\n",
       "      <td>1</td>\n",
       "      <td>1</td>\n",
       "      <td>False</td>\n",
       "      <td>False</td>\n",
       "      <td>False</td>\n",
       "      <td>False</td>\n",
       "      <td>False</td>\n",
       "      <td>False</td>\n",
       "      <td>101</td>\n",
       "    </tr>\n",
       "    <tr>\n",
       "      <th>3</th>\n",
       "      <td>368</td>\n",
       "      <td>1</td>\n",
       "      <td>1</td>\n",
       "      <td>4</td>\n",
       "      <td>5</td>\n",
       "      <td>4</td>\n",
       "      <td>1</td>\n",
       "      <td>1</td>\n",
       "      <td>False</td>\n",
       "      <td>False</td>\n",
       "      <td>False</td>\n",
       "      <td>False</td>\n",
       "      <td>False</td>\n",
       "      <td>False</td>\n",
       "      <td>101</td>\n",
       "    </tr>\n",
       "    <tr>\n",
       "      <th>4</th>\n",
       "      <td>369</td>\n",
       "      <td>1</td>\n",
       "      <td>1</td>\n",
       "      <td>5</td>\n",
       "      <td>6</td>\n",
       "      <td>5</td>\n",
       "      <td>1</td>\n",
       "      <td>1</td>\n",
       "      <td>False</td>\n",
       "      <td>False</td>\n",
       "      <td>False</td>\n",
       "      <td>False</td>\n",
       "      <td>False</td>\n",
       "      <td>False</td>\n",
       "      <td>101</td>\n",
       "    </tr>\n",
       "  </tbody>\n",
       "</table>\n",
       "</div>"
      ],
      "text/plain": [
       "   date  year  month  dayofmonth  dayofweek  dayofyear  weekofyear  quarter  \\\n",
       "0   365     1      1           1          2          1           1        1   \n",
       "1   366     1      1           2          3          2           1        1   \n",
       "2   367     1      1           3          4          3           1        1   \n",
       "3   368     1      1           4          5          4           1        1   \n",
       "4   369     1      1           5          6          5           1        1   \n",
       "\n",
       "   is_month_start  is_month_end  is_quarter_start  is_quarter_end  \\\n",
       "0            True         False              True           False   \n",
       "1           False         False             False           False   \n",
       "2           False         False             False           False   \n",
       "3           False         False             False           False   \n",
       "4           False         False             False           False   \n",
       "\n",
       "   is_year_start  is_year_end  year_weekofyear  \n",
       "0           True        False              101  \n",
       "1          False        False              101  \n",
       "2          False        False              101  \n",
       "3          False        False              101  \n",
       "4          False        False              101  "
      ]
     },
     "execution_count": 263,
     "metadata": {},
     "output_type": "execute_result"
    }
   ],
   "source": [
    "date.head()"
   ]
  },
  {
   "cell_type": "code",
   "execution_count": 264,
   "id": "196a3847",
   "metadata": {
    "scrolled": true
   },
   "outputs": [
    {
     "data": {
      "text/plain": [
       "date                   0\n",
       "store_id               0\n",
       "category_id            0\n",
       "target                 0\n",
       "onpromotion            0\n",
       "nbr_of_transactions    0\n",
       "year                   0\n",
       "month                  0\n",
       "dayofmonth             0\n",
       "dayofweek              0\n",
       "dayofyear              0\n",
       "weekofyear             0\n",
       "quarter                0\n",
       "is_month_start         0\n",
       "is_month_end           0\n",
       "is_quarter_start       0\n",
       "is_quarter_end         0\n",
       "is_year_start          0\n",
       "is_year_end            0\n",
       "year_weekofyear        0\n",
       "dtype: int64"
      ]
     },
     "execution_count": 264,
     "metadata": {},
     "output_type": "execute_result"
    }
   ],
   "source": [
    "train.isnull().sum()"
   ]
  },
  {
   "cell_type": "code",
   "execution_count": 265,
   "id": "0c506352",
   "metadata": {},
   "outputs": [
    {
     "data": {
      "text/plain": [
       "date                0\n",
       "store_id            0\n",
       "category_id         0\n",
       "onpromotion         0\n",
       "year                0\n",
       "month               0\n",
       "dayofmonth          0\n",
       "dayofweek           0\n",
       "dayofyear           0\n",
       "weekofyear          0\n",
       "quarter             0\n",
       "is_month_start      0\n",
       "is_month_end        0\n",
       "is_quarter_start    0\n",
       "is_quarter_end      0\n",
       "is_year_start       0\n",
       "is_year_end         0\n",
       "year_weekofyear     0\n",
       "dtype: int64"
      ]
     },
     "execution_count": 265,
     "metadata": {},
     "output_type": "execute_result"
    }
   ],
   "source": [
    "test.isnull().sum()"
   ]
  },
  {
   "cell_type": "markdown",
   "id": "93329539",
   "metadata": {},
   "source": [
    "### Dropping some columns"
   ]
  },
  {
   "cell_type": "code",
   "execution_count": 266,
   "id": "3147e026",
   "metadata": {},
   "outputs": [
    {
     "data": {
      "text/plain": [
       "(2248884, 20)"
      ]
     },
     "execution_count": 266,
     "metadata": {},
     "output_type": "execute_result"
    }
   ],
   "source": [
    "train.shape"
   ]
  },
  {
   "cell_type": "code",
   "execution_count": 267,
   "id": "e86eb2f4",
   "metadata": {},
   "outputs": [
    {
     "data": {
      "text/plain": [
       "(99792, 18)"
      ]
     },
     "execution_count": 267,
     "metadata": {},
     "output_type": "execute_result"
    }
   ],
   "source": [
    "test.shape"
   ]
  },
  {
   "cell_type": "code",
   "execution_count": 268,
   "id": "af9ee309",
   "metadata": {},
   "outputs": [],
   "source": [
    "# Drop ID from train and test\n",
    "train = train.drop('nbr_of_transactions', axis=1)\n",
    "# test.drop('ID', axis=1, inplace= True)"
   ]
  },
  {
   "cell_type": "code",
   "execution_count": 270,
   "id": "4811b063",
   "metadata": {},
   "outputs": [
    {
     "data": {
      "text/plain": [
       "(2248884, 19)"
      ]
     },
     "execution_count": 270,
     "metadata": {},
     "output_type": "execute_result"
    }
   ],
   "source": [
    "train.shape"
   ]
  },
  {
   "cell_type": "markdown",
   "id": "3e9a1dd4",
   "metadata": {},
   "source": [
    "## Checking correlation"
   ]
  },
  {
   "cell_type": "code",
   "execution_count": 271,
   "id": "c01ca458",
   "metadata": {},
   "outputs": [
    {
     "data": {
      "text/html": [
       "<style  type=\"text/css\" >\n",
       "#T_10d33_row0_col0,#T_10d33_row1_col1,#T_10d33_row2_col2,#T_10d33_row3_col3,#T_10d33_row4_col4,#T_10d33_row5_col5,#T_10d33_row6_col6,#T_10d33_row6_col9,#T_10d33_row7_col7,#T_10d33_row8_col8,#T_10d33_row9_col6,#T_10d33_row9_col9,#T_10d33_row10_col10,#T_10d33_row11_col11,#T_10d33_row12_col12,#T_10d33_row13_col13,#T_10d33_row14_col14,#T_10d33_row15_col15,#T_10d33_row16_col16,#T_10d33_row17_col17,#T_10d33_row18_col18{\n",
       "            background-color:  #b40426;\n",
       "            color:  #f1f1f1;\n",
       "        }#T_10d33_row0_col1,#T_10d33_row0_col2,#T_10d33_row1_col2,#T_10d33_row2_col1,#T_10d33_row5_col1,#T_10d33_row5_col2,#T_10d33_row5_col6,#T_10d33_row5_col9,#T_10d33_row5_col10,#T_10d33_row5_col11,#T_10d33_row5_col17,#T_10d33_row6_col1,#T_10d33_row6_col2,#T_10d33_row6_col5,#T_10d33_row7_col1,#T_10d33_row7_col2,#T_10d33_row7_col12,#T_10d33_row7_col14,#T_10d33_row7_col16,#T_10d33_row8_col1,#T_10d33_row8_col2,#T_10d33_row8_col15,#T_10d33_row9_col1,#T_10d33_row9_col2,#T_10d33_row9_col5,#T_10d33_row9_col16,#T_10d33_row10_col1,#T_10d33_row10_col2,#T_10d33_row11_col1,#T_10d33_row11_col2,#T_10d33_row11_col5,#T_10d33_row11_col18,#T_10d33_row12_col1,#T_10d33_row12_col2,#T_10d33_row12_col7,#T_10d33_row12_col13,#T_10d33_row12_col17,#T_10d33_row13_col1,#T_10d33_row13_col2,#T_10d33_row14_col0,#T_10d33_row14_col1,#T_10d33_row14_col2,#T_10d33_row15_col1,#T_10d33_row15_col2,#T_10d33_row15_col8,#T_10d33_row16_col0,#T_10d33_row16_col1,#T_10d33_row16_col2,#T_10d33_row16_col3,#T_10d33_row16_col4,#T_10d33_row17_col1,#T_10d33_row17_col2,#T_10d33_row18_col1,#T_10d33_row18_col2{\n",
       "            background-color:  #3b4cc0;\n",
       "            color:  #f1f1f1;\n",
       "        }#T_10d33_row0_col3,#T_10d33_row0_col16,#T_10d33_row3_col2,#T_10d33_row3_col8,#T_10d33_row4_col16,#T_10d33_row11_col0,#T_10d33_row18_col3,#T_10d33_row18_col16{\n",
       "            background-color:  #506bda;\n",
       "            color:  #000000;\n",
       "        }#T_10d33_row0_col4,#T_10d33_row3_col6,#T_10d33_row3_col9,#T_10d33_row3_col11,#T_10d33_row4_col0,#T_10d33_row4_col10,#T_10d33_row13_col9{\n",
       "            background-color:  #799cf8;\n",
       "            color:  #000000;\n",
       "        }#T_10d33_row0_col5{\n",
       "            background-color:  #c0282f;\n",
       "            color:  #f1f1f1;\n",
       "        }#T_10d33_row0_col6,#T_10d33_row0_col9,#T_10d33_row0_col12,#T_10d33_row4_col12,#T_10d33_row4_col18,#T_10d33_row8_col12,#T_10d33_row18_col7,#T_10d33_row18_col12{\n",
       "            background-color:  #86a9fc;\n",
       "            color:  #000000;\n",
       "        }#T_10d33_row0_col7,#T_10d33_row3_col12,#T_10d33_row6_col7,#T_10d33_row10_col12{\n",
       "            background-color:  #89acfd;\n",
       "            color:  #000000;\n",
       "        }#T_10d33_row0_col8,#T_10d33_row0_col13,#T_10d33_row1_col8,#T_10d33_row1_col15,#T_10d33_row2_col8,#T_10d33_row2_col15,#T_10d33_row3_col13,#T_10d33_row3_col15,#T_10d33_row4_col8,#T_10d33_row4_col13,#T_10d33_row4_col15,#T_10d33_row7_col8,#T_10d33_row10_col3,#T_10d33_row11_col3,#T_10d33_row13_col8,#T_10d33_row18_col8{\n",
       "            background-color:  #455cce;\n",
       "            color:  #f1f1f1;\n",
       "        }#T_10d33_row0_col10,#T_10d33_row3_col7,#T_10d33_row17_col12{\n",
       "            background-color:  #85a8fc;\n",
       "            color:  #000000;\n",
       "        }#T_10d33_row0_col11{\n",
       "            background-color:  #84a7fc;\n",
       "            color:  #000000;\n",
       "        }#T_10d33_row0_col14,#T_10d33_row15_col14,#T_10d33_row18_col14{\n",
       "            background-color:  #6687ed;\n",
       "            color:  #000000;\n",
       "        }#T_10d33_row0_col15,#T_10d33_row5_col8,#T_10d33_row6_col3,#T_10d33_row9_col3,#T_10d33_row10_col4,#T_10d33_row10_col13,#T_10d33_row11_col15{\n",
       "            background-color:  #465ecf;\n",
       "            color:  #f1f1f1;\n",
       "        }#T_10d33_row0_col17,#T_10d33_row5_col15,#T_10d33_row12_col3,#T_10d33_row17_col0,#T_10d33_row17_col3{\n",
       "            background-color:  #4257c9;\n",
       "            color:  #f1f1f1;\n",
       "        }#T_10d33_row0_col18,#T_10d33_row5_col18,#T_10d33_row18_col0,#T_10d33_row18_col5{\n",
       "            background-color:  #b70d28;\n",
       "            color:  #f1f1f1;\n",
       "        }#T_10d33_row1_col0,#T_10d33_row1_col17,#T_10d33_row2_col0,#T_10d33_row2_col17,#T_10d33_row8_col0,#T_10d33_row13_col0,#T_10d33_row13_col4,#T_10d33_row14_col3,#T_10d33_row14_col13,#T_10d33_row15_col0,#T_10d33_row15_col4{\n",
       "            background-color:  #3e51c5;\n",
       "            color:  #f1f1f1;\n",
       "        }#T_10d33_row1_col3{\n",
       "            background-color:  #5b7ae5;\n",
       "            color:  #000000;\n",
       "        }#T_10d33_row1_col4,#T_10d33_row1_col13,#T_10d33_row2_col13,#T_10d33_row4_col2,#T_10d33_row6_col13,#T_10d33_row8_col13,#T_10d33_row10_col8,#T_10d33_row11_col8,#T_10d33_row11_col13,#T_10d33_row12_col8,#T_10d33_row16_col15{\n",
       "            background-color:  #445acc;\n",
       "            color:  #f1f1f1;\n",
       "        }#T_10d33_row1_col5,#T_10d33_row1_col6,#T_10d33_row1_col9,#T_10d33_row1_col11,#T_10d33_row2_col5,#T_10d33_row2_col6,#T_10d33_row2_col9,#T_10d33_row2_col11,#T_10d33_row8_col11,#T_10d33_row12_col6,#T_10d33_row12_col10,#T_10d33_row12_col11,#T_10d33_row13_col6,#T_10d33_row13_col11,#T_10d33_row14_col11{\n",
       "            background-color:  #7295f4;\n",
       "            color:  #000000;\n",
       "        }#T_10d33_row1_col7,#T_10d33_row1_col12,#T_10d33_row2_col7,#T_10d33_row2_col12,#T_10d33_row4_col7,#T_10d33_row5_col12,#T_10d33_row6_col12,#T_10d33_row8_col7,#T_10d33_row11_col12,#T_10d33_row17_col11{\n",
       "            background-color:  #88abfd;\n",
       "            color:  #000000;\n",
       "        }#T_10d33_row1_col10,#T_10d33_row2_col10,#T_10d33_row8_col6,#T_10d33_row13_col5{\n",
       "            background-color:  #7093f3;\n",
       "            color:  #000000;\n",
       "        }#T_10d33_row1_col14,#T_10d33_row2_col14,#T_10d33_row5_col14,#T_10d33_row11_col14,#T_10d33_row12_col9,#T_10d33_row14_col6{\n",
       "            background-color:  #6a8bef;\n",
       "            color:  #000000;\n",
       "        }#T_10d33_row1_col16,#T_10d33_row2_col16,#T_10d33_row6_col0,#T_10d33_row9_col0,#T_10d33_row9_col15,#T_10d33_row11_col17,#T_10d33_row17_col16{\n",
       "            background-color:  #5470de;\n",
       "            color:  #000000;\n",
       "        }#T_10d33_row1_col18,#T_10d33_row2_col18,#T_10d33_row3_col0,#T_10d33_row3_col16,#T_10d33_row5_col3,#T_10d33_row6_col15{\n",
       "            background-color:  #4f69d9;\n",
       "            color:  #000000;\n",
       "        }#T_10d33_row2_col3{\n",
       "            background-color:  #5572df;\n",
       "            color:  #000000;\n",
       "        }#T_10d33_row2_col4,#T_10d33_row6_col4,#T_10d33_row10_col17,#T_10d33_row11_col4,#T_10d33_row14_col8,#T_10d33_row17_col8{\n",
       "            background-color:  #485fd1;\n",
       "            color:  #f1f1f1;\n",
       "        }#T_10d33_row3_col1,#T_10d33_row10_col16{\n",
       "            background-color:  #5673e0;\n",
       "            color:  #000000;\n",
       "        }#T_10d33_row3_col4{\n",
       "            background-color:  #cdd9ec;\n",
       "            color:  #000000;\n",
       "        }#T_10d33_row3_col5,#T_10d33_row9_col12{\n",
       "            background-color:  #81a4fb;\n",
       "            color:  #000000;\n",
       "        }#T_10d33_row3_col10,#T_10d33_row7_col11,#T_10d33_row15_col10,#T_10d33_row16_col5,#T_10d33_row18_col4{\n",
       "            background-color:  #7699f6;\n",
       "            color:  #000000;\n",
       "        }#T_10d33_row3_col14,#T_10d33_row17_col14{\n",
       "            background-color:  #688aef;\n",
       "            color:  #000000;\n",
       "        }#T_10d33_row3_col17,#T_10d33_row4_col17,#T_10d33_row7_col4,#T_10d33_row15_col3,#T_10d33_row17_col4{\n",
       "            background-color:  #3f53c6;\n",
       "            color:  #f1f1f1;\n",
       "        }#T_10d33_row3_col18,#T_10d33_row18_col10,#T_10d33_row18_col11{\n",
       "            background-color:  #5e7de7;\n",
       "            color:  #000000;\n",
       "        }#T_10d33_row4_col1,#T_10d33_row7_col0,#T_10d33_row8_col17,#T_10d33_row11_col16,#T_10d33_row12_col15,#T_10d33_row13_col3,#T_10d33_row16_col13{\n",
       "            background-color:  #4055c8;\n",
       "            color:  #f1f1f1;\n",
       "        }#T_10d33_row4_col3{\n",
       "            background-color:  #cedaeb;\n",
       "            color:  #000000;\n",
       "        }#T_10d33_row4_col5{\n",
       "            background-color:  #a3c2fe;\n",
       "            color:  #000000;\n",
       "        }#T_10d33_row4_col6,#T_10d33_row4_col9,#T_10d33_row4_col11,#T_10d33_row15_col6,#T_10d33_row17_col10{\n",
       "            background-color:  #7b9ff9;\n",
       "            color:  #000000;\n",
       "        }#T_10d33_row4_col14{\n",
       "            background-color:  #6788ee;\n",
       "            color:  #000000;\n",
       "        }#T_10d33_row5_col0{\n",
       "            background-color:  #c32e31;\n",
       "            color:  #f1f1f1;\n",
       "        }#T_10d33_row5_col4,#T_10d33_row8_col5,#T_10d33_row12_col5,#T_10d33_row13_col10,#T_10d33_row14_col5,#T_10d33_row14_col10,#T_10d33_row15_col11,#T_10d33_row16_col10{\n",
       "            background-color:  #7396f5;\n",
       "            color:  #000000;\n",
       "        }#T_10d33_row5_col7,#T_10d33_row7_col10,#T_10d33_row15_col12{\n",
       "            background-color:  #82a6fb;\n",
       "            color:  #000000;\n",
       "        }#T_10d33_row5_col13,#T_10d33_row6_col8,#T_10d33_row9_col8,#T_10d33_row14_col15,#T_10d33_row18_col13,#T_10d33_row18_col15{\n",
       "            background-color:  #4358cb;\n",
       "            color:  #f1f1f1;\n",
       "        }#T_10d33_row5_col16,#T_10d33_row6_col17,#T_10d33_row7_col17{\n",
       "            background-color:  #5875e1;\n",
       "            color:  #000000;\n",
       "        }#T_10d33_row6_col10,#T_10d33_row9_col10,#T_10d33_row10_col6,#T_10d33_row10_col9{\n",
       "            background-color:  #be242e;\n",
       "            color:  #f1f1f1;\n",
       "        }#T_10d33_row6_col11,#T_10d33_row9_col11,#T_10d33_row11_col6,#T_10d33_row11_col9{\n",
       "            background-color:  #bd1f2d;\n",
       "            color:  #f1f1f1;\n",
       "        }#T_10d33_row6_col14{\n",
       "            background-color:  #6180e9;\n",
       "            color:  #000000;\n",
       "        }#T_10d33_row6_col16,#T_10d33_row8_col4,#T_10d33_row12_col0,#T_10d33_row12_col4,#T_10d33_row16_col17{\n",
       "            background-color:  #3d50c3;\n",
       "            color:  #f1f1f1;\n",
       "        }#T_10d33_row6_col18,#T_10d33_row7_col3,#T_10d33_row9_col18,#T_10d33_row10_col5,#T_10d33_row10_col18,#T_10d33_row14_col4,#T_10d33_row14_col17,#T_10d33_row18_col17{\n",
       "            background-color:  #3c4ec2;\n",
       "            color:  #f1f1f1;\n",
       "        }#T_10d33_row7_col5{\n",
       "            background-color:  #6e90f2;\n",
       "            color:  #000000;\n",
       "        }#T_10d33_row7_col6{\n",
       "            background-color:  #7597f6;\n",
       "            color:  #000000;\n",
       "        }#T_10d33_row7_col9,#T_10d33_row17_col9{\n",
       "            background-color:  #8caffe;\n",
       "            color:  #000000;\n",
       "        }#T_10d33_row7_col13{\n",
       "            background-color:  #a9c6fd;\n",
       "            color:  #000000;\n",
       "        }#T_10d33_row7_col15{\n",
       "            background-color:  #7da0f9;\n",
       "            color:  #000000;\n",
       "        }#T_10d33_row7_col18,#T_10d33_row8_col18,#T_10d33_row12_col18,#T_10d33_row13_col18{\n",
       "            background-color:  #4e68d8;\n",
       "            color:  #000000;\n",
       "        }#T_10d33_row8_col3,#T_10d33_row9_col13,#T_10d33_row10_col15,#T_10d33_row14_col18,#T_10d33_row16_col8{\n",
       "            background-color:  #4b64d5;\n",
       "            color:  #f1f1f1;\n",
       "        }#T_10d33_row8_col9,#T_10d33_row8_col10,#T_10d33_row15_col5,#T_10d33_row16_col7,#T_10d33_row17_col5{\n",
       "            background-color:  #6f92f3;\n",
       "            color:  #000000;\n",
       "        }#T_10d33_row8_col14,#T_10d33_row10_col14{\n",
       "            background-color:  #6b8df0;\n",
       "            color:  #000000;\n",
       "        }#T_10d33_row8_col16,#T_10d33_row9_col17,#T_10d33_row16_col6{\n",
       "            background-color:  #5a78e4;\n",
       "            color:  #000000;\n",
       "        }#T_10d33_row9_col4{\n",
       "            background-color:  #4961d2;\n",
       "            color:  #f1f1f1;\n",
       "        }#T_10d33_row9_col7{\n",
       "            background-color:  #a1c0ff;\n",
       "            color:  #000000;\n",
       "        }#T_10d33_row9_col14{\n",
       "            background-color:  #5d7ce6;\n",
       "            color:  #000000;\n",
       "        }#T_10d33_row10_col0,#T_10d33_row15_col16{\n",
       "            background-color:  #536edd;\n",
       "            color:  #000000;\n",
       "        }#T_10d33_row10_col7{\n",
       "            background-color:  #97b8ff;\n",
       "            color:  #000000;\n",
       "        }#T_10d33_row10_col11,#T_10d33_row11_col10{\n",
       "            background-color:  #c53334;\n",
       "            color:  #f1f1f1;\n",
       "        }#T_10d33_row11_col7,#T_10d33_row17_col6{\n",
       "            background-color:  #8badfd;\n",
       "            color:  #000000;\n",
       "        }#T_10d33_row12_col14{\n",
       "            background-color:  #f5c1a9;\n",
       "            color:  #000000;\n",
       "        }#T_10d33_row12_col16{\n",
       "            background-color:  #b5cdfa;\n",
       "            color:  #000000;\n",
       "        }#T_10d33_row13_col7{\n",
       "            background-color:  #d5dbe5;\n",
       "            color:  #000000;\n",
       "        }#T_10d33_row13_col12{\n",
       "            background-color:  #7ea1fa;\n",
       "            color:  #000000;\n",
       "        }#T_10d33_row13_col14,#T_10d33_row14_col9{\n",
       "            background-color:  #6485ec;\n",
       "            color:  #000000;\n",
       "        }#T_10d33_row13_col15,#T_10d33_row14_col16,#T_10d33_row15_col13{\n",
       "            background-color:  #edd1c2;\n",
       "            color:  #000000;\n",
       "        }#T_10d33_row13_col16{\n",
       "            background-color:  #516ddb;\n",
       "            color:  #000000;\n",
       "        }#T_10d33_row13_col17{\n",
       "            background-color:  #96b7ff;\n",
       "            color:  #000000;\n",
       "        }#T_10d33_row14_col7,#T_10d33_row16_col9{\n",
       "            background-color:  #5977e3;\n",
       "            color:  #000000;\n",
       "        }#T_10d33_row14_col12{\n",
       "            background-color:  #f7b599;\n",
       "            color:  #000000;\n",
       "        }#T_10d33_row15_col7{\n",
       "            background-color:  #b6cefa;\n",
       "            color:  #000000;\n",
       "        }#T_10d33_row15_col9{\n",
       "            background-color:  #80a3fa;\n",
       "            color:  #000000;\n",
       "        }#T_10d33_row15_col17{\n",
       "            background-color:  #d9dce1;\n",
       "            color:  #000000;\n",
       "        }#T_10d33_row15_col18,#T_10d33_row17_col18{\n",
       "            background-color:  #4c66d6;\n",
       "            color:  #000000;\n",
       "        }#T_10d33_row16_col11,#T_10d33_row18_col6,#T_10d33_row18_col9{\n",
       "            background-color:  #5f7fe8;\n",
       "            color:  #000000;\n",
       "        }#T_10d33_row16_col12{\n",
       "            background-color:  #d4dbe6;\n",
       "            color:  #000000;\n",
       "        }#T_10d33_row16_col14{\n",
       "            background-color:  #f2cab5;\n",
       "            color:  #000000;\n",
       "        }#T_10d33_row16_col18{\n",
       "            background-color:  #4a63d3;\n",
       "            color:  #f1f1f1;\n",
       "        }#T_10d33_row17_col7{\n",
       "            background-color:  #9fbfff;\n",
       "            color:  #000000;\n",
       "        }#T_10d33_row17_col13{\n",
       "            background-color:  #9bbcff;\n",
       "            color:  #000000;\n",
       "        }#T_10d33_row17_col15{\n",
       "            background-color:  #dcdddd;\n",
       "            color:  #000000;\n",
       "        }</style><table id=\"T_10d33_\" ><thead>    <tr>        <th class=\"blank level0\" ></th>        <th class=\"col_heading level0 col0\" >date</th>        <th class=\"col_heading level0 col1\" >store_id</th>        <th class=\"col_heading level0 col2\" >category_id</th>        <th class=\"col_heading level0 col3\" >target</th>        <th class=\"col_heading level0 col4\" >onpromotion</th>        <th class=\"col_heading level0 col5\" >year</th>        <th class=\"col_heading level0 col6\" >month</th>        <th class=\"col_heading level0 col7\" >dayofmonth</th>        <th class=\"col_heading level0 col8\" >dayofweek</th>        <th class=\"col_heading level0 col9\" >dayofyear</th>        <th class=\"col_heading level0 col10\" >weekofyear</th>        <th class=\"col_heading level0 col11\" >quarter</th>        <th class=\"col_heading level0 col12\" >is_month_start</th>        <th class=\"col_heading level0 col13\" >is_month_end</th>        <th class=\"col_heading level0 col14\" >is_quarter_start</th>        <th class=\"col_heading level0 col15\" >is_quarter_end</th>        <th class=\"col_heading level0 col16\" >is_year_start</th>        <th class=\"col_heading level0 col17\" >is_year_end</th>        <th class=\"col_heading level0 col18\" >year_weekofyear</th>    </tr></thead><tbody>\n",
       "                <tr>\n",
       "                        <th id=\"T_10d33_level0_row0\" class=\"row_heading level0 row0\" >date</th>\n",
       "                        <td id=\"T_10d33_row0_col0\" class=\"data row0 col0\" >1.00</td>\n",
       "                        <td id=\"T_10d33_row0_col1\" class=\"data row0 col1\" >-0.00</td>\n",
       "                        <td id=\"T_10d33_row0_col2\" class=\"data row0 col2\" >0.00</td>\n",
       "                        <td id=\"T_10d33_row0_col3\" class=\"data row0 col3\" >0.06</td>\n",
       "                        <td id=\"T_10d33_row0_col4\" class=\"data row0 col4\" >0.18</td>\n",
       "                        <td id=\"T_10d33_row0_col5\" class=\"data row0 col5\" >0.96</td>\n",
       "                        <td id=\"T_10d33_row0_col6\" class=\"data row0 col6\" >0.07</td>\n",
       "                        <td id=\"T_10d33_row0_col7\" class=\"data row0 col7\" >0.01</td>\n",
       "                        <td id=\"T_10d33_row0_col8\" class=\"data row0 col8\" >0.00</td>\n",
       "                        <td id=\"T_10d33_row0_col9\" class=\"data row0 col9\" >0.07</td>\n",
       "                        <td id=\"T_10d33_row0_col10\" class=\"data row0 col10\" >0.07</td>\n",
       "                        <td id=\"T_10d33_row0_col11\" class=\"data row0 col11\" >0.06</td>\n",
       "                        <td id=\"T_10d33_row0_col12\" class=\"data row0 col12\" >-0.00</td>\n",
       "                        <td id=\"T_10d33_row0_col13\" class=\"data row0 col13\" >0.00</td>\n",
       "                        <td id=\"T_10d33_row0_col14\" class=\"data row0 col14\" >-0.01</td>\n",
       "                        <td id=\"T_10d33_row0_col15\" class=\"data row0 col15\" >0.00</td>\n",
       "                        <td id=\"T_10d33_row0_col16\" class=\"data row0 col16\" >-0.01</td>\n",
       "                        <td id=\"T_10d33_row0_col17\" class=\"data row0 col17\" >0.01</td>\n",
       "                        <td id=\"T_10d33_row0_col18\" class=\"data row0 col18\" >0.99</td>\n",
       "            </tr>\n",
       "            <tr>\n",
       "                        <th id=\"T_10d33_level0_row1\" class=\"row_heading level0 row1\" >store_id</th>\n",
       "                        <td id=\"T_10d33_row1_col0\" class=\"data row1 col0\" >-0.00</td>\n",
       "                        <td id=\"T_10d33_row1_col1\" class=\"data row1 col1\" >1.00</td>\n",
       "                        <td id=\"T_10d33_row1_col2\" class=\"data row1 col2\" >0.00</td>\n",
       "                        <td id=\"T_10d33_row1_col3\" class=\"data row1 col3\" >0.09</td>\n",
       "                        <td id=\"T_10d33_row1_col4\" class=\"data row1 col4\" >0.02</td>\n",
       "                        <td id=\"T_10d33_row1_col5\" class=\"data row1 col5\" >-0.00</td>\n",
       "                        <td id=\"T_10d33_row1_col6\" class=\"data row1 col6\" >-0.00</td>\n",
       "                        <td id=\"T_10d33_row1_col7\" class=\"data row1 col7\" >-0.00</td>\n",
       "                        <td id=\"T_10d33_row1_col8\" class=\"data row1 col8\" >-0.00</td>\n",
       "                        <td id=\"T_10d33_row1_col9\" class=\"data row1 col9\" >-0.00</td>\n",
       "                        <td id=\"T_10d33_row1_col10\" class=\"data row1 col10\" >-0.00</td>\n",
       "                        <td id=\"T_10d33_row1_col11\" class=\"data row1 col11\" >-0.00</td>\n",
       "                        <td id=\"T_10d33_row1_col12\" class=\"data row1 col12\" >0.00</td>\n",
       "                        <td id=\"T_10d33_row1_col13\" class=\"data row1 col13\" >-0.00</td>\n",
       "                        <td id=\"T_10d33_row1_col14\" class=\"data row1 col14\" >0.00</td>\n",
       "                        <td id=\"T_10d33_row1_col15\" class=\"data row1 col15\" >0.00</td>\n",
       "                        <td id=\"T_10d33_row1_col16\" class=\"data row1 col16\" >0.00</td>\n",
       "                        <td id=\"T_10d33_row1_col17\" class=\"data row1 col17\" >0.00</td>\n",
       "                        <td id=\"T_10d33_row1_col18\" class=\"data row1 col18\" >-0.00</td>\n",
       "            </tr>\n",
       "            <tr>\n",
       "                        <th id=\"T_10d33_level0_row2\" class=\"row_heading level0 row2\" >category_id</th>\n",
       "                        <td id=\"T_10d33_row2_col0\" class=\"data row2 col0\" >0.00</td>\n",
       "                        <td id=\"T_10d33_row2_col1\" class=\"data row2 col1\" >0.00</td>\n",
       "                        <td id=\"T_10d33_row2_col2\" class=\"data row2 col2\" >1.00</td>\n",
       "                        <td id=\"T_10d33_row2_col3\" class=\"data row2 col3\" >0.07</td>\n",
       "                        <td id=\"T_10d33_row2_col4\" class=\"data row2 col4\" >0.03</td>\n",
       "                        <td id=\"T_10d33_row2_col5\" class=\"data row2 col5\" >0.00</td>\n",
       "                        <td id=\"T_10d33_row2_col6\" class=\"data row2 col6\" >-0.00</td>\n",
       "                        <td id=\"T_10d33_row2_col7\" class=\"data row2 col7\" >0.00</td>\n",
       "                        <td id=\"T_10d33_row2_col8\" class=\"data row2 col8\" >0.00</td>\n",
       "                        <td id=\"T_10d33_row2_col9\" class=\"data row2 col9\" >-0.00</td>\n",
       "                        <td id=\"T_10d33_row2_col10\" class=\"data row2 col10\" >-0.00</td>\n",
       "                        <td id=\"T_10d33_row2_col11\" class=\"data row2 col11\" >-0.00</td>\n",
       "                        <td id=\"T_10d33_row2_col12\" class=\"data row2 col12\" >-0.00</td>\n",
       "                        <td id=\"T_10d33_row2_col13\" class=\"data row2 col13\" >0.00</td>\n",
       "                        <td id=\"T_10d33_row2_col14\" class=\"data row2 col14\" >-0.00</td>\n",
       "                        <td id=\"T_10d33_row2_col15\" class=\"data row2 col15\" >-0.00</td>\n",
       "                        <td id=\"T_10d33_row2_col16\" class=\"data row2 col16\" >-0.00</td>\n",
       "                        <td id=\"T_10d33_row2_col17\" class=\"data row2 col17\" >0.00</td>\n",
       "                        <td id=\"T_10d33_row2_col18\" class=\"data row2 col18\" >0.00</td>\n",
       "            </tr>\n",
       "            <tr>\n",
       "                        <th id=\"T_10d33_level0_row3\" class=\"row_heading level0 row3\" >target</th>\n",
       "                        <td id=\"T_10d33_row3_col0\" class=\"data row3 col0\" >0.06</td>\n",
       "                        <td id=\"T_10d33_row3_col1\" class=\"data row3 col1\" >0.09</td>\n",
       "                        <td id=\"T_10d33_row3_col2\" class=\"data row3 col2\" >0.07</td>\n",
       "                        <td id=\"T_10d33_row3_col3\" class=\"data row3 col3\" >1.00</td>\n",
       "                        <td id=\"T_10d33_row3_col4\" class=\"data row3 col4\" >0.44</td>\n",
       "                        <td id=\"T_10d33_row3_col5\" class=\"data row3 col5\" >0.05</td>\n",
       "                        <td id=\"T_10d33_row3_col6\" class=\"data row3 col6\" >0.02</td>\n",
       "                        <td id=\"T_10d33_row3_col7\" class=\"data row3 col7\" >-0.01</td>\n",
       "                        <td id=\"T_10d33_row3_col8\" class=\"data row3 col8\" >0.04</td>\n",
       "                        <td id=\"T_10d33_row3_col9\" class=\"data row3 col9\" >0.02</td>\n",
       "                        <td id=\"T_10d33_row3_col10\" class=\"data row3 col10\" >0.02</td>\n",
       "                        <td id=\"T_10d33_row3_col11\" class=\"data row3 col11\" >0.02</td>\n",
       "                        <td id=\"T_10d33_row3_col12\" class=\"data row3 col12\" >0.01</td>\n",
       "                        <td id=\"T_10d33_row3_col13\" class=\"data row3 col13\" >0.00</td>\n",
       "                        <td id=\"T_10d33_row3_col14\" class=\"data row3 col14\" >-0.00</td>\n",
       "                        <td id=\"T_10d33_row3_col15\" class=\"data row3 col15\" >0.00</td>\n",
       "                        <td id=\"T_10d33_row3_col16\" class=\"data row3 col16\" >-0.02</td>\n",
       "                        <td id=\"T_10d33_row3_col17\" class=\"data row3 col17\" >0.01</td>\n",
       "                        <td id=\"T_10d33_row3_col18\" class=\"data row3 col18\" >0.05</td>\n",
       "            </tr>\n",
       "            <tr>\n",
       "                        <th id=\"T_10d33_level0_row4\" class=\"row_heading level0 row4\" >onpromotion</th>\n",
       "                        <td id=\"T_10d33_row4_col0\" class=\"data row4 col0\" >0.18</td>\n",
       "                        <td id=\"T_10d33_row4_col1\" class=\"data row4 col1\" >0.02</td>\n",
       "                        <td id=\"T_10d33_row4_col2\" class=\"data row4 col2\" >0.03</td>\n",
       "                        <td id=\"T_10d33_row4_col3\" class=\"data row4 col3\" >0.44</td>\n",
       "                        <td id=\"T_10d33_row4_col4\" class=\"data row4 col4\" >1.00</td>\n",
       "                        <td id=\"T_10d33_row4_col5\" class=\"data row4 col5\" >0.17</td>\n",
       "                        <td id=\"T_10d33_row4_col6\" class=\"data row4 col6\" >0.03</td>\n",
       "                        <td id=\"T_10d33_row4_col7\" class=\"data row4 col7\" >0.00</td>\n",
       "                        <td id=\"T_10d33_row4_col8\" class=\"data row4 col8\" >-0.00</td>\n",
       "                        <td id=\"T_10d33_row4_col9\" class=\"data row4 col9\" >0.03</td>\n",
       "                        <td id=\"T_10d33_row4_col10\" class=\"data row4 col10\" >0.03</td>\n",
       "                        <td id=\"T_10d33_row4_col11\" class=\"data row4 col11\" >0.03</td>\n",
       "                        <td id=\"T_10d33_row4_col12\" class=\"data row4 col12\" >-0.00</td>\n",
       "                        <td id=\"T_10d33_row4_col13\" class=\"data row4 col13\" >0.00</td>\n",
       "                        <td id=\"T_10d33_row4_col14\" class=\"data row4 col14\" >-0.01</td>\n",
       "                        <td id=\"T_10d33_row4_col15\" class=\"data row4 col15\" >0.00</td>\n",
       "                        <td id=\"T_10d33_row4_col16\" class=\"data row4 col16\" >-0.01</td>\n",
       "                        <td id=\"T_10d33_row4_col17\" class=\"data row4 col17\" >0.00</td>\n",
       "                        <td id=\"T_10d33_row4_col18\" class=\"data row4 col18\" >0.18</td>\n",
       "            </tr>\n",
       "            <tr>\n",
       "                        <th id=\"T_10d33_level0_row5\" class=\"row_heading level0 row5\" >year</th>\n",
       "                        <td id=\"T_10d33_row5_col0\" class=\"data row5 col0\" >0.96</td>\n",
       "                        <td id=\"T_10d33_row5_col1\" class=\"data row5 col1\" >-0.00</td>\n",
       "                        <td id=\"T_10d33_row5_col2\" class=\"data row5 col2\" >0.00</td>\n",
       "                        <td id=\"T_10d33_row5_col3\" class=\"data row5 col3\" >0.05</td>\n",
       "                        <td id=\"T_10d33_row5_col4\" class=\"data row5 col4\" >0.17</td>\n",
       "                        <td id=\"T_10d33_row5_col5\" class=\"data row5 col5\" >1.00</td>\n",
       "                        <td id=\"T_10d33_row5_col6\" class=\"data row5 col6\" >-0.21</td>\n",
       "                        <td id=\"T_10d33_row5_col7\" class=\"data row5 col7\" >-0.02</td>\n",
       "                        <td id=\"T_10d33_row5_col8\" class=\"data row5 col8\" >0.00</td>\n",
       "                        <td id=\"T_10d33_row5_col9\" class=\"data row5 col9\" >-0.21</td>\n",
       "                        <td id=\"T_10d33_row5_col10\" class=\"data row5 col10\" >-0.21</td>\n",
       "                        <td id=\"T_10d33_row5_col11\" class=\"data row5 col11\" >-0.21</td>\n",
       "                        <td id=\"T_10d33_row5_col12\" class=\"data row5 col12\" >0.00</td>\n",
       "                        <td id=\"T_10d33_row5_col13\" class=\"data row5 col13\" >-0.00</td>\n",
       "                        <td id=\"T_10d33_row5_col14\" class=\"data row5 col14\" >0.00</td>\n",
       "                        <td id=\"T_10d33_row5_col15\" class=\"data row5 col15\" >-0.01</td>\n",
       "                        <td id=\"T_10d33_row5_col16\" class=\"data row5 col16\" >0.01</td>\n",
       "                        <td id=\"T_10d33_row5_col17\" class=\"data row5 col17\" >-0.01</td>\n",
       "                        <td id=\"T_10d33_row5_col18\" class=\"data row5 col18\" >0.99</td>\n",
       "            </tr>\n",
       "            <tr>\n",
       "                        <th id=\"T_10d33_level0_row6\" class=\"row_heading level0 row6\" >month</th>\n",
       "                        <td id=\"T_10d33_row6_col0\" class=\"data row6 col0\" >0.07</td>\n",
       "                        <td id=\"T_10d33_row6_col1\" class=\"data row6 col1\" >-0.00</td>\n",
       "                        <td id=\"T_10d33_row6_col2\" class=\"data row6 col2\" >-0.00</td>\n",
       "                        <td id=\"T_10d33_row6_col3\" class=\"data row6 col3\" >0.02</td>\n",
       "                        <td id=\"T_10d33_row6_col4\" class=\"data row6 col4\" >0.03</td>\n",
       "                        <td id=\"T_10d33_row6_col5\" class=\"data row6 col5\" >-0.21</td>\n",
       "                        <td id=\"T_10d33_row6_col6\" class=\"data row6 col6\" >1.00</td>\n",
       "                        <td id=\"T_10d33_row6_col7\" class=\"data row6 col7\" >0.01</td>\n",
       "                        <td id=\"T_10d33_row6_col8\" class=\"data row6 col8\" >-0.01</td>\n",
       "                        <td id=\"T_10d33_row6_col9\" class=\"data row6 col9\" >1.00</td>\n",
       "                        <td id=\"T_10d33_row6_col10\" class=\"data row6 col10\" >0.97</td>\n",
       "                        <td id=\"T_10d33_row6_col11\" class=\"data row6 col11\" >0.97</td>\n",
       "                        <td id=\"T_10d33_row6_col12\" class=\"data row6 col12\" >-0.00</td>\n",
       "                        <td id=\"T_10d33_row6_col13\" class=\"data row6 col13\" >-0.00</td>\n",
       "                        <td id=\"T_10d33_row6_col14\" class=\"data row6 col14\" >-0.03</td>\n",
       "                        <td id=\"T_10d33_row6_col15\" class=\"data row6 col15\" >0.03</td>\n",
       "                        <td id=\"T_10d33_row6_col16\" class=\"data row6 col16\" >-0.08</td>\n",
       "                        <td id=\"T_10d33_row6_col17\" class=\"data row6 col17\" >0.08</td>\n",
       "                        <td id=\"T_10d33_row6_col18\" class=\"data row6 col18\" >-0.07</td>\n",
       "            </tr>\n",
       "            <tr>\n",
       "                        <th id=\"T_10d33_level0_row7\" class=\"row_heading level0 row7\" >dayofmonth</th>\n",
       "                        <td id=\"T_10d33_row7_col0\" class=\"data row7 col0\" >0.01</td>\n",
       "                        <td id=\"T_10d33_row7_col1\" class=\"data row7 col1\" >-0.00</td>\n",
       "                        <td id=\"T_10d33_row7_col2\" class=\"data row7 col2\" >0.00</td>\n",
       "                        <td id=\"T_10d33_row7_col3\" class=\"data row7 col3\" >-0.01</td>\n",
       "                        <td id=\"T_10d33_row7_col4\" class=\"data row7 col4\" >0.00</td>\n",
       "                        <td id=\"T_10d33_row7_col5\" class=\"data row7 col5\" >-0.02</td>\n",
       "                        <td id=\"T_10d33_row7_col6\" class=\"data row7 col6\" >0.01</td>\n",
       "                        <td id=\"T_10d33_row7_col7\" class=\"data row7 col7\" >1.00</td>\n",
       "                        <td id=\"T_10d33_row7_col8\" class=\"data row7 col8\" >0.00</td>\n",
       "                        <td id=\"T_10d33_row7_col9\" class=\"data row7 col9\" >0.09</td>\n",
       "                        <td id=\"T_10d33_row7_col10\" class=\"data row7 col10\" >0.06</td>\n",
       "                        <td id=\"T_10d33_row7_col11\" class=\"data row7 col11\" >0.01</td>\n",
       "                        <td id=\"T_10d33_row7_col12\" class=\"data row7 col12\" >-0.31</td>\n",
       "                        <td id=\"T_10d33_row7_col13\" class=\"data row7 col13\" >0.31</td>\n",
       "                        <td id=\"T_10d33_row7_col14\" class=\"data row7 col14\" >-0.18</td>\n",
       "                        <td id=\"T_10d33_row7_col15\" class=\"data row7 col15\" >0.17</td>\n",
       "                        <td id=\"T_10d33_row7_col16\" class=\"data row7 col16\" >-0.09</td>\n",
       "                        <td id=\"T_10d33_row7_col17\" class=\"data row7 col17\" >0.09</td>\n",
       "                        <td id=\"T_10d33_row7_col18\" class=\"data row7 col18\" >-0.00</td>\n",
       "            </tr>\n",
       "            <tr>\n",
       "                        <th id=\"T_10d33_level0_row8\" class=\"row_heading level0 row8\" >dayofweek</th>\n",
       "                        <td id=\"T_10d33_row8_col0\" class=\"data row8 col0\" >0.00</td>\n",
       "                        <td id=\"T_10d33_row8_col1\" class=\"data row8 col1\" >-0.00</td>\n",
       "                        <td id=\"T_10d33_row8_col2\" class=\"data row8 col2\" >0.00</td>\n",
       "                        <td id=\"T_10d33_row8_col3\" class=\"data row8 col3\" >0.04</td>\n",
       "                        <td id=\"T_10d33_row8_col4\" class=\"data row8 col4\" >-0.00</td>\n",
       "                        <td id=\"T_10d33_row8_col5\" class=\"data row8 col5\" >0.00</td>\n",
       "                        <td id=\"T_10d33_row8_col6\" class=\"data row8 col6\" >-0.01</td>\n",
       "                        <td id=\"T_10d33_row8_col7\" class=\"data row8 col7\" >0.00</td>\n",
       "                        <td id=\"T_10d33_row8_col8\" class=\"data row8 col8\" >1.00</td>\n",
       "                        <td id=\"T_10d33_row8_col9\" class=\"data row8 col9\" >-0.01</td>\n",
       "                        <td id=\"T_10d33_row8_col10\" class=\"data row8 col10\" >-0.01</td>\n",
       "                        <td id=\"T_10d33_row8_col11\" class=\"data row8 col11\" >-0.00</td>\n",
       "                        <td id=\"T_10d33_row8_col12\" class=\"data row8 col12\" >-0.00</td>\n",
       "                        <td id=\"T_10d33_row8_col13\" class=\"data row8 col13\" >-0.00</td>\n",
       "                        <td id=\"T_10d33_row8_col14\" class=\"data row8 col14\" >0.01</td>\n",
       "                        <td id=\"T_10d33_row8_col15\" class=\"data row8 col15\" >-0.04</td>\n",
       "                        <td id=\"T_10d33_row8_col16\" class=\"data row8 col16\" >0.02</td>\n",
       "                        <td id=\"T_10d33_row8_col17\" class=\"data row8 col17\" >0.01</td>\n",
       "                        <td id=\"T_10d33_row8_col18\" class=\"data row8 col18\" >-0.00</td>\n",
       "            </tr>\n",
       "            <tr>\n",
       "                        <th id=\"T_10d33_level0_row9\" class=\"row_heading level0 row9\" >dayofyear</th>\n",
       "                        <td id=\"T_10d33_row9_col0\" class=\"data row9 col0\" >0.07</td>\n",
       "                        <td id=\"T_10d33_row9_col1\" class=\"data row9 col1\" >-0.00</td>\n",
       "                        <td id=\"T_10d33_row9_col2\" class=\"data row9 col2\" >-0.00</td>\n",
       "                        <td id=\"T_10d33_row9_col3\" class=\"data row9 col3\" >0.02</td>\n",
       "                        <td id=\"T_10d33_row9_col4\" class=\"data row9 col4\" >0.03</td>\n",
       "                        <td id=\"T_10d33_row9_col5\" class=\"data row9 col5\" >-0.21</td>\n",
       "                        <td id=\"T_10d33_row9_col6\" class=\"data row9 col6\" >1.00</td>\n",
       "                        <td id=\"T_10d33_row9_col7\" class=\"data row9 col7\" >0.09</td>\n",
       "                        <td id=\"T_10d33_row9_col8\" class=\"data row9 col8\" >-0.01</td>\n",
       "                        <td id=\"T_10d33_row9_col9\" class=\"data row9 col9\" >1.00</td>\n",
       "                        <td id=\"T_10d33_row9_col10\" class=\"data row9 col10\" >0.97</td>\n",
       "                        <td id=\"T_10d33_row9_col11\" class=\"data row9 col11\" >0.97</td>\n",
       "                        <td id=\"T_10d33_row9_col12\" class=\"data row9 col12\" >-0.03</td>\n",
       "                        <td id=\"T_10d33_row9_col13\" class=\"data row9 col13\" >0.03</td>\n",
       "                        <td id=\"T_10d33_row9_col14\" class=\"data row9 col14\" >-0.05</td>\n",
       "                        <td id=\"T_10d33_row9_col15\" class=\"data row9 col15\" >0.05</td>\n",
       "                        <td id=\"T_10d33_row9_col16\" class=\"data row9 col16\" >-0.09</td>\n",
       "                        <td id=\"T_10d33_row9_col17\" class=\"data row9 col17\" >0.09</td>\n",
       "                        <td id=\"T_10d33_row9_col18\" class=\"data row9 col18\" >-0.06</td>\n",
       "            </tr>\n",
       "            <tr>\n",
       "                        <th id=\"T_10d33_level0_row10\" class=\"row_heading level0 row10\" >weekofyear</th>\n",
       "                        <td id=\"T_10d33_row10_col0\" class=\"data row10 col0\" >0.07</td>\n",
       "                        <td id=\"T_10d33_row10_col1\" class=\"data row10 col1\" >-0.00</td>\n",
       "                        <td id=\"T_10d33_row10_col2\" class=\"data row10 col2\" >-0.00</td>\n",
       "                        <td id=\"T_10d33_row10_col3\" class=\"data row10 col3\" >0.02</td>\n",
       "                        <td id=\"T_10d33_row10_col4\" class=\"data row10 col4\" >0.03</td>\n",
       "                        <td id=\"T_10d33_row10_col5\" class=\"data row10 col5\" >-0.21</td>\n",
       "                        <td id=\"T_10d33_row10_col6\" class=\"data row10 col6\" >0.97</td>\n",
       "                        <td id=\"T_10d33_row10_col7\" class=\"data row10 col7\" >0.06</td>\n",
       "                        <td id=\"T_10d33_row10_col8\" class=\"data row10 col8\" >-0.01</td>\n",
       "                        <td id=\"T_10d33_row10_col9\" class=\"data row10 col9\" >0.97</td>\n",
       "                        <td id=\"T_10d33_row10_col10\" class=\"data row10 col10\" >1.00</td>\n",
       "                        <td id=\"T_10d33_row10_col11\" class=\"data row10 col11\" >0.94</td>\n",
       "                        <td id=\"T_10d33_row10_col12\" class=\"data row10 col12\" >0.00</td>\n",
       "                        <td id=\"T_10d33_row10_col13\" class=\"data row10 col13\" >0.01</td>\n",
       "                        <td id=\"T_10d33_row10_col14\" class=\"data row10 col14\" >0.01</td>\n",
       "                        <td id=\"T_10d33_row10_col15\" class=\"data row10 col15\" >0.02</td>\n",
       "                        <td id=\"T_10d33_row10_col16\" class=\"data row10 col16\" >0.01</td>\n",
       "                        <td id=\"T_10d33_row10_col17\" class=\"data row10 col17\" >0.03</td>\n",
       "                        <td id=\"T_10d33_row10_col18\" class=\"data row10 col18\" >-0.07</td>\n",
       "            </tr>\n",
       "            <tr>\n",
       "                        <th id=\"T_10d33_level0_row11\" class=\"row_heading level0 row11\" >quarter</th>\n",
       "                        <td id=\"T_10d33_row11_col0\" class=\"data row11 col0\" >0.06</td>\n",
       "                        <td id=\"T_10d33_row11_col1\" class=\"data row11 col1\" >-0.00</td>\n",
       "                        <td id=\"T_10d33_row11_col2\" class=\"data row11 col2\" >-0.00</td>\n",
       "                        <td id=\"T_10d33_row11_col3\" class=\"data row11 col3\" >0.02</td>\n",
       "                        <td id=\"T_10d33_row11_col4\" class=\"data row11 col4\" >0.03</td>\n",
       "                        <td id=\"T_10d33_row11_col5\" class=\"data row11 col5\" >-0.21</td>\n",
       "                        <td id=\"T_10d33_row11_col6\" class=\"data row11 col6\" >0.97</td>\n",
       "                        <td id=\"T_10d33_row11_col7\" class=\"data row11 col7\" >0.01</td>\n",
       "                        <td id=\"T_10d33_row11_col8\" class=\"data row11 col8\" >-0.00</td>\n",
       "                        <td id=\"T_10d33_row11_col9\" class=\"data row11 col9\" >0.97</td>\n",
       "                        <td id=\"T_10d33_row11_col10\" class=\"data row11 col10\" >0.94</td>\n",
       "                        <td id=\"T_10d33_row11_col11\" class=\"data row11 col11\" >1.00</td>\n",
       "                        <td id=\"T_10d33_row11_col12\" class=\"data row11 col12\" >-0.00</td>\n",
       "                        <td id=\"T_10d33_row11_col13\" class=\"data row11 col13\" >0.00</td>\n",
       "                        <td id=\"T_10d33_row11_col14\" class=\"data row11 col14\" >-0.00</td>\n",
       "                        <td id=\"T_10d33_row11_col15\" class=\"data row11 col15\" >0.00</td>\n",
       "                        <td id=\"T_10d33_row11_col16\" class=\"data row11 col16\" >-0.07</td>\n",
       "                        <td id=\"T_10d33_row11_col17\" class=\"data row11 col17\" >0.07</td>\n",
       "                        <td id=\"T_10d33_row11_col18\" class=\"data row11 col18\" >-0.07</td>\n",
       "            </tr>\n",
       "            <tr>\n",
       "                        <th id=\"T_10d33_level0_row12\" class=\"row_heading level0 row12\" >is_month_start</th>\n",
       "                        <td id=\"T_10d33_row12_col0\" class=\"data row12 col0\" >-0.00</td>\n",
       "                        <td id=\"T_10d33_row12_col1\" class=\"data row12 col1\" >0.00</td>\n",
       "                        <td id=\"T_10d33_row12_col2\" class=\"data row12 col2\" >-0.00</td>\n",
       "                        <td id=\"T_10d33_row12_col3\" class=\"data row12 col3\" >0.01</td>\n",
       "                        <td id=\"T_10d33_row12_col4\" class=\"data row12 col4\" >-0.00</td>\n",
       "                        <td id=\"T_10d33_row12_col5\" class=\"data row12 col5\" >0.00</td>\n",
       "                        <td id=\"T_10d33_row12_col6\" class=\"data row12 col6\" >-0.00</td>\n",
       "                        <td id=\"T_10d33_row12_col7\" class=\"data row12 col7\" >-0.31</td>\n",
       "                        <td id=\"T_10d33_row12_col8\" class=\"data row12 col8\" >-0.00</td>\n",
       "                        <td id=\"T_10d33_row12_col9\" class=\"data row12 col9\" >-0.03</td>\n",
       "                        <td id=\"T_10d33_row12_col10\" class=\"data row12 col10\" >0.00</td>\n",
       "                        <td id=\"T_10d33_row12_col11\" class=\"data row12 col11\" >-0.00</td>\n",
       "                        <td id=\"T_10d33_row12_col12\" class=\"data row12 col12\" >1.00</td>\n",
       "                        <td id=\"T_10d33_row12_col13\" class=\"data row12 col13\" >-0.03</td>\n",
       "                        <td id=\"T_10d33_row12_col14\" class=\"data row12 col14\" >0.57</td>\n",
       "                        <td id=\"T_10d33_row12_col15\" class=\"data row12 col15\" >-0.02</td>\n",
       "                        <td id=\"T_10d33_row12_col16\" class=\"data row12 col16\" >0.30</td>\n",
       "                        <td id=\"T_10d33_row12_col17\" class=\"data row12 col17\" >-0.01</td>\n",
       "                        <td id=\"T_10d33_row12_col18\" class=\"data row12 col18\" >-0.00</td>\n",
       "            </tr>\n",
       "            <tr>\n",
       "                        <th id=\"T_10d33_level0_row13\" class=\"row_heading level0 row13\" >is_month_end</th>\n",
       "                        <td id=\"T_10d33_row13_col0\" class=\"data row13 col0\" >0.00</td>\n",
       "                        <td id=\"T_10d33_row13_col1\" class=\"data row13 col1\" >-0.00</td>\n",
       "                        <td id=\"T_10d33_row13_col2\" class=\"data row13 col2\" >0.00</td>\n",
       "                        <td id=\"T_10d33_row13_col3\" class=\"data row13 col3\" >0.00</td>\n",
       "                        <td id=\"T_10d33_row13_col4\" class=\"data row13 col4\" >0.00</td>\n",
       "                        <td id=\"T_10d33_row13_col5\" class=\"data row13 col5\" >-0.00</td>\n",
       "                        <td id=\"T_10d33_row13_col6\" class=\"data row13 col6\" >-0.00</td>\n",
       "                        <td id=\"T_10d33_row13_col7\" class=\"data row13 col7\" >0.31</td>\n",
       "                        <td id=\"T_10d33_row13_col8\" class=\"data row13 col8\" >-0.00</td>\n",
       "                        <td id=\"T_10d33_row13_col9\" class=\"data row13 col9\" >0.03</td>\n",
       "                        <td id=\"T_10d33_row13_col10\" class=\"data row13 col10\" >0.01</td>\n",
       "                        <td id=\"T_10d33_row13_col11\" class=\"data row13 col11\" >0.00</td>\n",
       "                        <td id=\"T_10d33_row13_col12\" class=\"data row13 col12\" >-0.03</td>\n",
       "                        <td id=\"T_10d33_row13_col13\" class=\"data row13 col13\" >1.00</td>\n",
       "                        <td id=\"T_10d33_row13_col14\" class=\"data row13 col14\" >-0.02</td>\n",
       "                        <td id=\"T_10d33_row13_col15\" class=\"data row13 col15\" >0.56</td>\n",
       "                        <td id=\"T_10d33_row13_col16\" class=\"data row13 col16\" >-0.01</td>\n",
       "                        <td id=\"T_10d33_row13_col17\" class=\"data row13 col17\" >0.27</td>\n",
       "                        <td id=\"T_10d33_row13_col18\" class=\"data row13 col18\" >-0.00</td>\n",
       "            </tr>\n",
       "            <tr>\n",
       "                        <th id=\"T_10d33_level0_row14\" class=\"row_heading level0 row14\" >is_quarter_start</th>\n",
       "                        <td id=\"T_10d33_row14_col0\" class=\"data row14 col0\" >-0.01</td>\n",
       "                        <td id=\"T_10d33_row14_col1\" class=\"data row14 col1\" >0.00</td>\n",
       "                        <td id=\"T_10d33_row14_col2\" class=\"data row14 col2\" >-0.00</td>\n",
       "                        <td id=\"T_10d33_row14_col3\" class=\"data row14 col3\" >-0.00</td>\n",
       "                        <td id=\"T_10d33_row14_col4\" class=\"data row14 col4\" >-0.01</td>\n",
       "                        <td id=\"T_10d33_row14_col5\" class=\"data row14 col5\" >0.00</td>\n",
       "                        <td id=\"T_10d33_row14_col6\" class=\"data row14 col6\" >-0.03</td>\n",
       "                        <td id=\"T_10d33_row14_col7\" class=\"data row14 col7\" >-0.18</td>\n",
       "                        <td id=\"T_10d33_row14_col8\" class=\"data row14 col8\" >0.01</td>\n",
       "                        <td id=\"T_10d33_row14_col9\" class=\"data row14 col9\" >-0.05</td>\n",
       "                        <td id=\"T_10d33_row14_col10\" class=\"data row14 col10\" >0.01</td>\n",
       "                        <td id=\"T_10d33_row14_col11\" class=\"data row14 col11\" >-0.00</td>\n",
       "                        <td id=\"T_10d33_row14_col12\" class=\"data row14 col12\" >0.57</td>\n",
       "                        <td id=\"T_10d33_row14_col13\" class=\"data row14 col13\" >-0.02</td>\n",
       "                        <td id=\"T_10d33_row14_col14\" class=\"data row14 col14\" >1.00</td>\n",
       "                        <td id=\"T_10d33_row14_col15\" class=\"data row14 col15\" >-0.01</td>\n",
       "                        <td id=\"T_10d33_row14_col16\" class=\"data row14 col16\" >0.53</td>\n",
       "                        <td id=\"T_10d33_row14_col17\" class=\"data row14 col17\" >-0.01</td>\n",
       "                        <td id=\"T_10d33_row14_col18\" class=\"data row14 col18\" >-0.01</td>\n",
       "            </tr>\n",
       "            <tr>\n",
       "                        <th id=\"T_10d33_level0_row15\" class=\"row_heading level0 row15\" >is_quarter_end</th>\n",
       "                        <td id=\"T_10d33_row15_col0\" class=\"data row15 col0\" >0.00</td>\n",
       "                        <td id=\"T_10d33_row15_col1\" class=\"data row15 col1\" >0.00</td>\n",
       "                        <td id=\"T_10d33_row15_col2\" class=\"data row15 col2\" >-0.00</td>\n",
       "                        <td id=\"T_10d33_row15_col3\" class=\"data row15 col3\" >0.00</td>\n",
       "                        <td id=\"T_10d33_row15_col4\" class=\"data row15 col4\" >0.00</td>\n",
       "                        <td id=\"T_10d33_row15_col5\" class=\"data row15 col5\" >-0.01</td>\n",
       "                        <td id=\"T_10d33_row15_col6\" class=\"data row15 col6\" >0.03</td>\n",
       "                        <td id=\"T_10d33_row15_col7\" class=\"data row15 col7\" >0.17</td>\n",
       "                        <td id=\"T_10d33_row15_col8\" class=\"data row15 col8\" >-0.04</td>\n",
       "                        <td id=\"T_10d33_row15_col9\" class=\"data row15 col9\" >0.05</td>\n",
       "                        <td id=\"T_10d33_row15_col10\" class=\"data row15 col10\" >0.02</td>\n",
       "                        <td id=\"T_10d33_row15_col11\" class=\"data row15 col11\" >0.00</td>\n",
       "                        <td id=\"T_10d33_row15_col12\" class=\"data row15 col12\" >-0.02</td>\n",
       "                        <td id=\"T_10d33_row15_col13\" class=\"data row15 col13\" >0.56</td>\n",
       "                        <td id=\"T_10d33_row15_col14\" class=\"data row15 col14\" >-0.01</td>\n",
       "                        <td id=\"T_10d33_row15_col15\" class=\"data row15 col15\" >1.00</td>\n",
       "                        <td id=\"T_10d33_row15_col16\" class=\"data row15 col16\" >-0.01</td>\n",
       "                        <td id=\"T_10d33_row15_col17\" class=\"data row15 col17\" >0.48</td>\n",
       "                        <td id=\"T_10d33_row15_col18\" class=\"data row15 col18\" >-0.01</td>\n",
       "            </tr>\n",
       "            <tr>\n",
       "                        <th id=\"T_10d33_level0_row16\" class=\"row_heading level0 row16\" >is_year_start</th>\n",
       "                        <td id=\"T_10d33_row16_col0\" class=\"data row16 col0\" >-0.01</td>\n",
       "                        <td id=\"T_10d33_row16_col1\" class=\"data row16 col1\" >0.00</td>\n",
       "                        <td id=\"T_10d33_row16_col2\" class=\"data row16 col2\" >-0.00</td>\n",
       "                        <td id=\"T_10d33_row16_col3\" class=\"data row16 col3\" >-0.02</td>\n",
       "                        <td id=\"T_10d33_row16_col4\" class=\"data row16 col4\" >-0.01</td>\n",
       "                        <td id=\"T_10d33_row16_col5\" class=\"data row16 col5\" >0.01</td>\n",
       "                        <td id=\"T_10d33_row16_col6\" class=\"data row16 col6\" >-0.08</td>\n",
       "                        <td id=\"T_10d33_row16_col7\" class=\"data row16 col7\" >-0.09</td>\n",
       "                        <td id=\"T_10d33_row16_col8\" class=\"data row16 col8\" >0.02</td>\n",
       "                        <td id=\"T_10d33_row16_col9\" class=\"data row16 col9\" >-0.09</td>\n",
       "                        <td id=\"T_10d33_row16_col10\" class=\"data row16 col10\" >0.01</td>\n",
       "                        <td id=\"T_10d33_row16_col11\" class=\"data row16 col11\" >-0.07</td>\n",
       "                        <td id=\"T_10d33_row16_col12\" class=\"data row16 col12\" >0.30</td>\n",
       "                        <td id=\"T_10d33_row16_col13\" class=\"data row16 col13\" >-0.01</td>\n",
       "                        <td id=\"T_10d33_row16_col14\" class=\"data row16 col14\" >0.53</td>\n",
       "                        <td id=\"T_10d33_row16_col15\" class=\"data row16 col15\" >-0.01</td>\n",
       "                        <td id=\"T_10d33_row16_col16\" class=\"data row16 col16\" >1.00</td>\n",
       "                        <td id=\"T_10d33_row16_col17\" class=\"data row16 col17\" >-0.00</td>\n",
       "                        <td id=\"T_10d33_row16_col18\" class=\"data row16 col18\" >-0.01</td>\n",
       "            </tr>\n",
       "            <tr>\n",
       "                        <th id=\"T_10d33_level0_row17\" class=\"row_heading level0 row17\" >is_year_end</th>\n",
       "                        <td id=\"T_10d33_row17_col0\" class=\"data row17 col0\" >0.01</td>\n",
       "                        <td id=\"T_10d33_row17_col1\" class=\"data row17 col1\" >0.00</td>\n",
       "                        <td id=\"T_10d33_row17_col2\" class=\"data row17 col2\" >0.00</td>\n",
       "                        <td id=\"T_10d33_row17_col3\" class=\"data row17 col3\" >0.01</td>\n",
       "                        <td id=\"T_10d33_row17_col4\" class=\"data row17 col4\" >0.00</td>\n",
       "                        <td id=\"T_10d33_row17_col5\" class=\"data row17 col5\" >-0.01</td>\n",
       "                        <td id=\"T_10d33_row17_col6\" class=\"data row17 col6\" >0.08</td>\n",
       "                        <td id=\"T_10d33_row17_col7\" class=\"data row17 col7\" >0.09</td>\n",
       "                        <td id=\"T_10d33_row17_col8\" class=\"data row17 col8\" >0.01</td>\n",
       "                        <td id=\"T_10d33_row17_col9\" class=\"data row17 col9\" >0.09</td>\n",
       "                        <td id=\"T_10d33_row17_col10\" class=\"data row17 col10\" >0.03</td>\n",
       "                        <td id=\"T_10d33_row17_col11\" class=\"data row17 col11\" >0.07</td>\n",
       "                        <td id=\"T_10d33_row17_col12\" class=\"data row17 col12\" >-0.01</td>\n",
       "                        <td id=\"T_10d33_row17_col13\" class=\"data row17 col13\" >0.27</td>\n",
       "                        <td id=\"T_10d33_row17_col14\" class=\"data row17 col14\" >-0.01</td>\n",
       "                        <td id=\"T_10d33_row17_col15\" class=\"data row17 col15\" >0.48</td>\n",
       "                        <td id=\"T_10d33_row17_col16\" class=\"data row17 col16\" >-0.00</td>\n",
       "                        <td id=\"T_10d33_row17_col17\" class=\"data row17 col17\" >1.00</td>\n",
       "                        <td id=\"T_10d33_row17_col18\" class=\"data row17 col18\" >-0.01</td>\n",
       "            </tr>\n",
       "            <tr>\n",
       "                        <th id=\"T_10d33_level0_row18\" class=\"row_heading level0 row18\" >year_weekofyear</th>\n",
       "                        <td id=\"T_10d33_row18_col0\" class=\"data row18 col0\" >0.99</td>\n",
       "                        <td id=\"T_10d33_row18_col1\" class=\"data row18 col1\" >-0.00</td>\n",
       "                        <td id=\"T_10d33_row18_col2\" class=\"data row18 col2\" >0.00</td>\n",
       "                        <td id=\"T_10d33_row18_col3\" class=\"data row18 col3\" >0.05</td>\n",
       "                        <td id=\"T_10d33_row18_col4\" class=\"data row18 col4\" >0.18</td>\n",
       "                        <td id=\"T_10d33_row18_col5\" class=\"data row18 col5\" >0.99</td>\n",
       "                        <td id=\"T_10d33_row18_col6\" class=\"data row18 col6\" >-0.07</td>\n",
       "                        <td id=\"T_10d33_row18_col7\" class=\"data row18 col7\" >-0.00</td>\n",
       "                        <td id=\"T_10d33_row18_col8\" class=\"data row18 col8\" >-0.00</td>\n",
       "                        <td id=\"T_10d33_row18_col9\" class=\"data row18 col9\" >-0.06</td>\n",
       "                        <td id=\"T_10d33_row18_col10\" class=\"data row18 col10\" >-0.07</td>\n",
       "                        <td id=\"T_10d33_row18_col11\" class=\"data row18 col11\" >-0.07</td>\n",
       "                        <td id=\"T_10d33_row18_col12\" class=\"data row18 col12\" >-0.00</td>\n",
       "                        <td id=\"T_10d33_row18_col13\" class=\"data row18 col13\" >-0.00</td>\n",
       "                        <td id=\"T_10d33_row18_col14\" class=\"data row18 col14\" >-0.01</td>\n",
       "                        <td id=\"T_10d33_row18_col15\" class=\"data row18 col15\" >-0.01</td>\n",
       "                        <td id=\"T_10d33_row18_col16\" class=\"data row18 col16\" >-0.01</td>\n",
       "                        <td id=\"T_10d33_row18_col17\" class=\"data row18 col17\" >-0.01</td>\n",
       "                        <td id=\"T_10d33_row18_col18\" class=\"data row18 col18\" >1.00</td>\n",
       "            </tr>\n",
       "    </tbody></table>"
      ],
      "text/plain": [
       "<pandas.io.formats.style.Styler at 0x194312a4c10>"
      ]
     },
     "execution_count": 271,
     "metadata": {},
     "output_type": "execute_result"
    }
   ],
   "source": [
    "corr = train.corr()\n",
    "\n",
    "corr.style.background_gradient(cmap='coolwarm').set_precision(2)"
   ]
  },
  {
   "cell_type": "markdown",
   "id": "353a7e32",
   "metadata": {},
   "source": [
    "## Modelling"
   ]
  },
  {
   "cell_type": "code",
   "execution_count": 272,
   "id": "e5198308",
   "metadata": {},
   "outputs": [],
   "source": [
    "#Split into X and y\n",
    "X = train.drop('target', axis=1)\n",
    "y = train['target']"
   ]
  },
  {
   "cell_type": "code",
   "execution_count": 273,
   "id": "b8ed3d9f",
   "metadata": {},
   "outputs": [
    {
     "name": "stdout",
     "output_type": "stream",
     "text": [
      "(1799107, 18)\n",
      "(449777, 18)\n",
      "(1799107,)\n",
      "(449777,)\n"
     ]
    }
   ],
   "source": [
    "#Split into train and test set\n",
    "X_train, X_test, y_train, y_test = train_test_split(X, y, test_size=0.2, random_state=2021)\n",
    "print(X_train.shape)\n",
    "print(X_test.shape)\n",
    "print(y_train.shape)\n",
    "print(y_test.shape)"
   ]
  },
  {
   "cell_type": "code",
   "execution_count": 274,
   "id": "893b7e1d",
   "metadata": {},
   "outputs": [
    {
     "data": {
      "text/plain": [
       "LGBMRegressor(colsample_bytree=0.9234, metric='None', min_child_samples=399,\n",
       "              min_child_weight=0.1, n_estimators=5000, n_jobs=4, num_leaves=13,\n",
       "              random_state=314, reg_alpha=2, reg_lambda=5, subsample=0.855)"
      ]
     },
     "execution_count": 274,
     "metadata": {},
     "output_type": "execute_result"
    }
   ],
   "source": [
    "from lightgbm import LGBMRegressor\n",
    "lgt = LGBMRegressor(boosting_type='gbdt', class_weight=None,\n",
    "        colsample_bytree=0.9234, learning_rate=0.1, max_depth=-1,\n",
    "        metric='None', min_child_samples=399, min_child_weight=0.1,\n",
    "        min_split_gain=0.0, n_estimators=5000, n_jobs=4, num_leaves=13,\n",
    "        objective=None, random_state=314, reg_alpha=2, reg_lambda=5,\n",
    "        silent=True, subsample=0.855, subsample_for_bin=200000,\n",
    "        subsample_freq=0)\n",
    "lgt.fit(X_train, y_train)"
   ]
  },
  {
   "cell_type": "code",
   "execution_count": 275,
   "id": "5509db2f",
   "metadata": {},
   "outputs": [],
   "source": [
    "y_pred = lgt.predict(test)"
   ]
  },
  {
   "cell_type": "code",
   "execution_count": 277,
   "id": "604467c6",
   "metadata": {},
   "outputs": [],
   "source": [
    "y_pred = abs(y_pred)"
   ]
  },
  {
   "cell_type": "code",
   "execution_count": 278,
   "id": "27de9e91",
   "metadata": {},
   "outputs": [],
   "source": [
    "y_pred_log = np.log1p(y_pred)"
   ]
  },
  {
   "cell_type": "markdown",
   "id": "0e0f306e",
   "metadata": {},
   "source": [
    "### Submission File Creation"
   ]
  },
  {
   "cell_type": "code",
   "execution_count": 88,
   "id": "87acd84a",
   "metadata": {},
   "outputs": [],
   "source": [
    "new_test = pd.read_csv('Test.csv')"
   ]
  },
  {
   "cell_type": "code",
   "execution_count": 89,
   "id": "9a360060",
   "metadata": {},
   "outputs": [],
   "source": [
    "new_test = pd.merge(new_test, date, on = 'date', how = 'left')"
   ]
  },
  {
   "cell_type": "code",
   "execution_count": 92,
   "id": "d111759d",
   "metadata": {},
   "outputs": [],
   "source": [
    "new_test['yw'] = 'year_week'"
   ]
  },
  {
   "cell_type": "code",
   "execution_count": 93,
   "id": "8e484bf3",
   "metadata": {},
   "outputs": [],
   "source": [
    "new_ = new_test['yw'] + '_' + new_test['year_weekofyear'].astype('str') + '_' + new_test['store_id'].astype('str') + '_' + new_test['category_id'].astype('str')"
   ]
  },
  {
   "cell_type": "code",
   "execution_count": 279,
   "id": "8cc8bfbc",
   "metadata": {
    "scrolled": true
   },
   "outputs": [
    {
     "data": {
      "text/plain": [
       "0        year_week_425_store_1_category_24\n",
       "1        year_week_425_store_1_category_21\n",
       "2        year_week_425_store_1_category_32\n",
       "3        year_week_425_store_1_category_18\n",
       "4        year_week_425_store_1_category_26\n",
       "                       ...                \n",
       "99787    year_week_432_store_9_category_23\n",
       "99788    year_week_432_store_9_category_20\n",
       "99789    year_week_432_store_9_category_15\n",
       "99790    year_week_432_store_9_category_29\n",
       "99791    year_week_432_store_9_category_10\n",
       "Length: 99792, dtype: object"
      ]
     },
     "execution_count": 279,
     "metadata": {},
     "output_type": "execute_result"
    }
   ],
   "source": [
    "new_"
   ]
  },
  {
   "cell_type": "code",
   "execution_count": 280,
   "id": "8ea0aba9",
   "metadata": {},
   "outputs": [],
   "source": [
    "final = pd.DataFrame({'ID': new_, 'target': y_pred_log })"
   ]
  },
  {
   "cell_type": "code",
   "execution_count": 281,
   "id": "a5883270",
   "metadata": {},
   "outputs": [],
   "source": [
    "final.to_csv('maybe.csv', index = False)"
   ]
  },
  {
   "cell_type": "code",
   "execution_count": null,
   "id": "8e358520",
   "metadata": {},
   "outputs": [],
   "source": []
  },
  {
   "cell_type": "markdown",
   "id": "f256f18a",
   "metadata": {},
   "source": [
    "## ....."
   ]
  },
  {
   "cell_type": "code",
   "execution_count": 121,
   "id": "f1cec239",
   "metadata": {},
   "outputs": [
    {
     "name": "stderr",
     "output_type": "stream",
     "text": [
      "C:\\Users\\Public\\New folder\\lib\\site-packages\\lightgbm\\engine.py:148: UserWarning: Found `num_iterations` in params. Will use it instead of argument\n",
      "  _log_warning(\"Found `{}` in params. Will use it instead of argument\".format(alias))\n"
     ]
    },
    {
     "data": {
      "text/plain": [
       "LGBMRegressor(learning_rate=0.005, max_depth=-4, num_iterations=20,\n",
       "              num_leaves=50)"
      ]
     },
     "execution_count": 121,
     "metadata": {},
     "output_type": "execute_result"
    }
   ],
   "source": [
    "from lightgbm import LGBMRegressor\n",
    "lgt = LGBMRegressor()\n",
    "lgt.fit(X_train, y_train)"
   ]
  },
  {
   "cell_type": "code",
   "execution_count": 122,
   "id": "400ce308",
   "metadata": {},
   "outputs": [],
   "source": [
    "y_pred = lgt.predict(test)"
   ]
  },
  {
   "cell_type": "code",
   "execution_count": 123,
   "id": "aa237ca7",
   "metadata": {},
   "outputs": [],
   "source": [
    "y_pred = abs(y_pred)"
   ]
  },
  {
   "cell_type": "code",
   "execution_count": 124,
   "id": "f11d3f8a",
   "metadata": {},
   "outputs": [],
   "source": [
    "y_pred_log = np.log1p(y_pred)"
   ]
  },
  {
   "cell_type": "code",
   "execution_count": 125,
   "id": "f55891ae",
   "metadata": {},
   "outputs": [],
   "source": [
    "final = pd.DataFrame({'ID': new_, 'target': y_pred_log })"
   ]
  },
  {
   "cell_type": "code",
   "execution_count": 126,
   "id": "0b9332e4",
   "metadata": {},
   "outputs": [],
   "source": [
    "final.to_csv('finale.csv', index= False)"
   ]
  },
  {
   "cell_type": "code",
   "execution_count": null,
   "id": "3be026ea",
   "metadata": {},
   "outputs": [],
   "source": []
  },
  {
   "cell_type": "markdown",
   "id": "d5483864",
   "metadata": {},
   "source": [
    "## Expanding the model"
   ]
  },
  {
   "cell_type": "code",
   "execution_count": 127,
   "id": "6c46b396",
   "metadata": {},
   "outputs": [],
   "source": [
    "parameters = { 'loss' : ['ls', 'lad', 'huber', 'quantile'],\n",
    "              'learning_rate' : (0.05,0.25,0.50,1),\n",
    "              'criterion' : ['friedman_mse', 'mse', 'mae'],\n",
    "              'max_features' : ['auto', 'sqrt', 'log2']\n",
    "             }"
   ]
  },
  {
   "cell_type": "code",
   "execution_count": 130,
   "id": "2b4b31e6",
   "metadata": {},
   "outputs": [
    {
     "data": {
      "text/plain": [
       "{'loss': ['ls', 'lad', 'huber', 'quantile'],\n",
       " 'learning_rate': (0.05, 0.25, 0.5, 1),\n",
       " 'criterion': ['friedman_mse', 'mse', 'mae'],\n",
       " 'max_features': ['auto', 'sqrt', 'log2']}"
      ]
     },
     "execution_count": 130,
     "metadata": {},
     "output_type": "execute_result"
    }
   ],
   "source": [
    "parameters"
   ]
  },
  {
   "cell_type": "code",
   "execution_count": 131,
   "id": "9b607690",
   "metadata": {},
   "outputs": [],
   "source": [
    "# Number of trees in random forest\n",
    "n_estimators = [int(x) for x in np.linspace(start=10, stop=100, num=10)]\n",
    "# Number of features to consider at every split\n",
    "max_features = ['auto', 'sqrt', 'log2']\n",
    "# Maximum number of levels in tree\n",
    "max_depth = [2,5]\n",
    "# Minimum number of samples requerid to split a node\n",
    "min_samples_split = [2,4]\n",
    "# Minimum number of samples requerid at each leaf node\n",
    "min_samples_leaf = [1,2]\n",
    "# Method of selecting samples for training each tree\n",
    "bootstrap = [True, False]"
   ]
  },
  {
   "cell_type": "code",
   "execution_count": 282,
   "id": "65779680",
   "metadata": {},
   "outputs": [
    {
     "data": {
      "text/plain": [
       "{'n_estimators': [10, 20, 30, 40, 50, 60, 70, 80, 90, 100],\n",
       " 'max_features': ['auto', 'sqrt', 'log2'],\n",
       " 'max_depth': [2, 5],\n",
       " 'min_samples_split': [2, 4],\n",
       " 'min_samples_leaf': [1, 2],\n",
       " 'bootstrap': [True, False]}"
      ]
     },
     "execution_count": 282,
     "metadata": {},
     "output_type": "execute_result"
    }
   ],
   "source": [
    "#  Create a param grid\n",
    "param_grid = {'n_estimators':n_estimators,\n",
    "              'max_features':max_features,\n",
    "              'max_depth':max_depth,\n",
    "              'min_samples_split':min_samples_split,\n",
    "              'min_samples_leaf':min_samples_leaf,\n",
    "              'bootstrap':bootstrap}\n",
    "param_grid"
   ]
  },
  {
   "cell_type": "code",
   "execution_count": 284,
   "id": "fd6327d3",
   "metadata": {},
   "outputs": [],
   "source": [
    " rf_grid= GridSearchCV(estimator=LGBMRegressor(boosting_type='gbdt', class_weight=None,\n",
    "        colsample_bytree=0.9234, learning_rate=0.1, max_depth=-1,\n",
    "        metric='None', min_child_samples=399, min_child_weight=0.1,\n",
    "        min_split_gain=0.0, n_estimators=5000, n_jobs=4, num_leaves=13,\n",
    "        objective=None, random_state=314, reg_alpha=2, reg_lambda=5,\n",
    "        silent=True, subsample=0.855, subsample_for_bin=200000,\n",
    "        subsample_freq=0), param_grid=param_grid, cv=3, verbose=0, n_jobs=4)"
   ]
  },
  {
   "cell_type": "code",
   "execution_count": null,
   "id": "ed7edc47",
   "metadata": {},
   "outputs": [],
   "source": [
    "# Fit the model\n",
    "rf_grid.fit(X_train, y_train)\n",
    "rf_grid.best_params_"
   ]
  },
  {
   "cell_type": "code",
   "execution_count": 136,
   "id": "f5a04020",
   "metadata": {},
   "outputs": [
    {
     "data": {
      "text/plain": [
       "LGBMRegressor(bootstrap=True, max_depth=5, max_features='auto',\n",
       "              min_samples_leaf=1, min_samples_split=2)"
      ]
     },
     "execution_count": 136,
     "metadata": {},
     "output_type": "execute_result"
    }
   ],
   "source": [
    "# Returning classification report on random forest model prediction\n",
    "rf = LGBMRegressor(boosting_type='gbdt', class_weight=None,\n",
    "        colsample_bytree=0.9234, learning_rate=0.1, max_depth=-1,\n",
    "        metric='None', min_child_samples=399, min_child_weight=0.1,\n",
    "        min_split_gain=0.0, n_estimators=5000, n_jobs=4, num_leaves=13,\n",
    "        objective=None, random_state=314, reg_alpha=2, reg_lambda=5,\n",
    "        silent=True, subsample=0.855, subsample_for_bin=200000,\n",
    "        subsample_freq=0).set_params(**rf_grid.best_params_)\n",
    "rf.fit(X_train, y_train)"
   ]
  },
  {
   "cell_type": "code",
   "execution_count": 149,
   "id": "60fc029a",
   "metadata": {},
   "outputs": [],
   "source": [
    "predictions = rf.predict(X_test)"
   ]
  },
  {
   "cell_type": "code",
   "execution_count": 150,
   "id": "c6149bc4",
   "metadata": {},
   "outputs": [],
   "source": [
    "model_rf = rf.predict(test)"
   ]
  },
  {
   "cell_type": "code",
   "execution_count": 151,
   "id": "6a262606",
   "metadata": {},
   "outputs": [
    {
     "data": {
      "text/plain": [
       "array([   4.36155873,   19.01193319,   16.53329279, ..., 2751.70242716,\n",
       "        242.38845713,   36.4009174 ])"
      ]
     },
     "execution_count": 151,
     "metadata": {},
     "output_type": "execute_result"
    }
   ],
   "source": [
    "model_rf"
   ]
  },
  {
   "cell_type": "code",
   "execution_count": null,
   "id": "481d4dc3",
   "metadata": {},
   "outputs": [],
   "source": [
    "final.groupby(['ID'])['target'].sum().reset_index()"
   ]
  },
  {
   "cell_type": "code",
   "execution_count": 143,
   "id": "3bed8e30",
   "metadata": {},
   "outputs": [],
   "source": [
    "model_rf = abs(model_rf)"
   ]
  },
  {
   "cell_type": "code",
   "execution_count": 144,
   "id": "8bd6104b",
   "metadata": {},
   "outputs": [],
   "source": [
    "model_rf_log = np.log1p(model_rf)"
   ]
  },
  {
   "cell_type": "code",
   "execution_count": 145,
   "id": "acf68ee9",
   "metadata": {},
   "outputs": [],
   "source": [
    "final = pd.DataFrame({'ID': new_, 'target': model_rf_log })"
   ]
  },
  {
   "cell_type": "code",
   "execution_count": 147,
   "id": "9b179ab0",
   "metadata": {},
   "outputs": [],
   "source": [
    "final.to_csv('model_rf.csv', index = False)"
   ]
  },
  {
   "cell_type": "code",
   "execution_count": 148,
   "id": "2110cfa7",
   "metadata": {},
   "outputs": [
    {
     "data": {
      "text/html": [
       "<div>\n",
       "<style scoped>\n",
       "    .dataframe tbody tr th:only-of-type {\n",
       "        vertical-align: middle;\n",
       "    }\n",
       "\n",
       "    .dataframe tbody tr th {\n",
       "        vertical-align: top;\n",
       "    }\n",
       "\n",
       "    .dataframe thead th {\n",
       "        text-align: right;\n",
       "    }\n",
       "</style>\n",
       "<table border=\"1\" class=\"dataframe\">\n",
       "  <thead>\n",
       "    <tr style=\"text-align: right;\">\n",
       "      <th></th>\n",
       "      <th>ID</th>\n",
       "      <th>target</th>\n",
       "    </tr>\n",
       "  </thead>\n",
       "  <tbody>\n",
       "    <tr>\n",
       "      <th>0</th>\n",
       "      <td>year_week_425_store_10_category_0</td>\n",
       "      <td>29.710238</td>\n",
       "    </tr>\n",
       "    <tr>\n",
       "      <th>1</th>\n",
       "      <td>year_week_425_store_10_category_1</td>\n",
       "      <td>24.700883</td>\n",
       "    </tr>\n",
       "    <tr>\n",
       "      <th>2</th>\n",
       "      <td>year_week_425_store_10_category_10</td>\n",
       "      <td>24.700883</td>\n",
       "    </tr>\n",
       "    <tr>\n",
       "      <th>3</th>\n",
       "      <td>year_week_425_store_10_category_11</td>\n",
       "      <td>24.700883</td>\n",
       "    </tr>\n",
       "    <tr>\n",
       "      <th>4</th>\n",
       "      <td>year_week_425_store_10_category_12</td>\n",
       "      <td>31.644321</td>\n",
       "    </tr>\n",
       "    <tr>\n",
       "      <th>...</th>\n",
       "      <td>...</td>\n",
       "      <td>...</td>\n",
       "    </tr>\n",
       "    <tr>\n",
       "      <th>14251</th>\n",
       "      <td>year_week_432_store_9_category_5</td>\n",
       "      <td>28.608878</td>\n",
       "    </tr>\n",
       "    <tr>\n",
       "      <th>14252</th>\n",
       "      <td>year_week_432_store_9_category_6</td>\n",
       "      <td>28.608878</td>\n",
       "    </tr>\n",
       "    <tr>\n",
       "      <th>14253</th>\n",
       "      <td>year_week_432_store_9_category_7</td>\n",
       "      <td>61.785235</td>\n",
       "    </tr>\n",
       "    <tr>\n",
       "      <th>14254</th>\n",
       "      <td>year_week_432_store_9_category_8</td>\n",
       "      <td>36.726636</td>\n",
       "    </tr>\n",
       "    <tr>\n",
       "      <th>14255</th>\n",
       "      <td>year_week_432_store_9_category_9</td>\n",
       "      <td>52.751326</td>\n",
       "    </tr>\n",
       "  </tbody>\n",
       "</table>\n",
       "<p>14256 rows × 2 columns</p>\n",
       "</div>"
      ],
      "text/plain": [
       "                                       ID     target\n",
       "0       year_week_425_store_10_category_0  29.710238\n",
       "1       year_week_425_store_10_category_1  24.700883\n",
       "2      year_week_425_store_10_category_10  24.700883\n",
       "3      year_week_425_store_10_category_11  24.700883\n",
       "4      year_week_425_store_10_category_12  31.644321\n",
       "...                                   ...        ...\n",
       "14251    year_week_432_store_9_category_5  28.608878\n",
       "14252    year_week_432_store_9_category_6  28.608878\n",
       "14253    year_week_432_store_9_category_7  61.785235\n",
       "14254    year_week_432_store_9_category_8  36.726636\n",
       "14255    year_week_432_store_9_category_9  52.751326\n",
       "\n",
       "[14256 rows x 2 columns]"
      ]
     },
     "execution_count": 148,
     "metadata": {},
     "output_type": "execute_result"
    }
   ],
   "source": [
    "final.groupby(['ID'])['target'].sum().reset_index()"
   ]
  },
  {
   "cell_type": "code",
   "execution_count": null,
   "id": "367b0ce1",
   "metadata": {},
   "outputs": [],
   "source": []
  },
  {
   "cell_type": "code",
   "execution_count": 161,
   "id": "81629df3",
   "metadata": {},
   "outputs": [
    {
     "data": {
      "text/plain": [
       "LGBMRegressor(colsample_bytree=0.9234, metric='None', min_child_samples=399,\n",
       "              min_child_weight=0.1, n_estimators=5000, n_jobs=4, num_leaves=13,\n",
       "              random_state=314, reg_alpha=2, reg_lambda=5, subsample=0.855)"
      ]
     },
     "execution_count": 161,
     "metadata": {},
     "output_type": "execute_result"
    }
   ],
   "source": [
    "LGBMRegressor(boosting_type='gbdt', class_weight=None,\n",
    "        colsample_bytree=0.9234, learning_rate=0.1, max_depth=-1,\n",
    "        metric='None', min_child_samples=399, min_child_weight=0.1,\n",
    "        min_split_gain=0.0, n_estimators=5000, n_jobs=4, num_leaves=13,\n",
    "        objective=None, random_state=314, reg_alpha=2, reg_lambda=5,\n",
    "        silent=True, subsample=0.855, subsample_for_bin=200000,\n",
    "        subsample_freq=0)"
   ]
  },
  {
   "cell_type": "code",
   "execution_count": 162,
   "id": "9ac1a4ad",
   "metadata": {},
   "outputs": [],
   "source": [
    "reg = LGBMRegressor(boosting_type='gbdt', class_weight=None,\n",
    "        colsample_bytree=0.9234, learning_rate=0.1, max_depth=-1,\n",
    "        metric='None', min_child_samples=399, min_child_weight=0.1,\n",
    "        min_split_gain=0.0, n_estimators=5000, n_jobs=4, num_leaves=13,\n",
    "        objective=None, random_state=314, reg_alpha=2, reg_lambda=5,\n",
    "        silent=True, subsample=0.855, subsample_for_bin=200000,\n",
    "        subsample_freq=0)"
   ]
  },
  {
   "cell_type": "code",
   "execution_count": 163,
   "id": "e06d3d16",
   "metadata": {},
   "outputs": [
    {
     "data": {
      "text/plain": [
       "LGBMRegressor(colsample_bytree=0.9234, metric='None', min_child_samples=399,\n",
       "              min_child_weight=0.1, n_estimators=5000, n_jobs=4, num_leaves=13,\n",
       "              random_state=314, reg_alpha=2, reg_lambda=5, subsample=0.855)"
      ]
     },
     "execution_count": 163,
     "metadata": {},
     "output_type": "execute_result"
    }
   ],
   "source": [
    "reg.fit(X_train, y_train)"
   ]
  },
  {
   "cell_type": "code",
   "execution_count": 164,
   "id": "24ed22b4",
   "metadata": {},
   "outputs": [
    {
     "data": {
      "text/plain": [
       "array([ -11.4587582 ,    5.96342701,  -48.41554323, ..., 2120.32599176,\n",
       "        134.84324932,    7.70816477])"
      ]
     },
     "execution_count": 164,
     "metadata": {},
     "output_type": "execute_result"
    }
   ],
   "source": [
    "y_pred = reg.predict(test)"
   ]
  },
  {
   "cell_type": "code",
   "execution_count": 165,
   "id": "c6c6c52e",
   "metadata": {},
   "outputs": [],
   "source": [
    "y_pred = abs(y_pred)"
   ]
  },
  {
   "cell_type": "code",
   "execution_count": 166,
   "id": "c8d78146",
   "metadata": {},
   "outputs": [],
   "source": [
    "y_pred = np.log1p(y_pred)"
   ]
  },
  {
   "cell_type": "code",
   "execution_count": 167,
   "id": "19f7ed7b",
   "metadata": {},
   "outputs": [],
   "source": [
    "final = pd.DataFrame({'ID': new_, 'target': y_pred })"
   ]
  },
  {
   "cell_type": "code",
   "execution_count": 168,
   "id": "2cb463e8",
   "metadata": {},
   "outputs": [],
   "source": [
    "final.to_csv('new_gy.csv', index = False)"
   ]
  },
  {
   "cell_type": "code",
   "execution_count": null,
   "id": "c3ff4dd8",
   "metadata": {},
   "outputs": [],
   "source": []
  }
 ],
 "metadata": {
  "kernelspec": {
   "display_name": "Python 3",
   "language": "python",
   "name": "python3"
  },
  "language_info": {
   "codemirror_mode": {
    "name": "ipython",
    "version": 3
   },
   "file_extension": ".py",
   "mimetype": "text/x-python",
   "name": "python",
   "nbconvert_exporter": "python",
   "pygments_lexer": "ipython3",
   "version": "3.8.8"
  }
 },
 "nbformat": 4,
 "nbformat_minor": 5
}
